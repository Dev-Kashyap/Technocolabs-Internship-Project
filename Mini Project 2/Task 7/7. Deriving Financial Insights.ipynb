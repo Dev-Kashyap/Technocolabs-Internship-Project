{
 "cells": [
  {
   "cell_type": "markdown",
   "metadata": {},
   "source": [
    "**Your challenge can be found toward the end of this notebook. The code below will be needed in order to begin the challenge. Read through and execute all necessary portions of this code to complete the tasks for this challenge.**"
   ]
  },
  {
   "cell_type": "markdown",
   "metadata": {},
   "source": [
    "##### Import the necessary packages"
   ]
  },
  {
   "cell_type": "code",
   "execution_count": 1,
   "metadata": {},
   "outputs": [],
   "source": [
    "import numpy as np #numerical computation\n",
    "import pandas as pd #data wrangling\n",
    "\n",
    "import matplotlib as mpl #add'l plotting functionality\n",
    "import matplotlib.pyplot as plt #plotting package\n",
    "#Next line helps with rendering plots\n",
    "%matplotlib inline\n",
    "\n",
    "import graphviz #to visualize decision trees"
   ]
  },
  {
   "cell_type": "markdown",
   "metadata": {},
   "source": [
    "##### Cleaning the Dataset"
   ]
  },
  {
   "cell_type": "code",
   "execution_count": 2,
   "metadata": {},
   "outputs": [],
   "source": [
    "df_orig = pd.read_excel('default_of_credit_card_clients.xls')"
   ]
  },
  {
   "cell_type": "code",
   "execution_count": 3,
   "metadata": {},
   "outputs": [],
   "source": [
    "df_zero_mask = (df_orig == 0)"
   ]
  },
  {
   "cell_type": "code",
   "execution_count": 4,
   "metadata": {},
   "outputs": [],
   "source": [
    "feature_zero_mask = df_zero_mask.iloc[:,1:].all(axis = 1)"
   ]
  },
  {
   "cell_type": "code",
   "execution_count": 5,
   "metadata": {},
   "outputs": [
    {
     "data": {
      "text/plain": [
       "315"
      ]
     },
     "execution_count": 5,
     "metadata": {},
     "output_type": "execute_result"
    }
   ],
   "source": [
    "sum(feature_zero_mask)\n",
    "# 315"
   ]
  },
  {
   "cell_type": "markdown",
   "metadata": {},
   "source": [
    "Remove all the rows with all zero features and response, confirm this that gets rid of the duplicate IDs."
   ]
  },
  {
   "cell_type": "code",
   "execution_count": 6,
   "metadata": {},
   "outputs": [],
   "source": [
    "df_clean = df_orig.loc[~feature_zero_mask,: ].copy()"
   ]
  },
  {
   "cell_type": "code",
   "execution_count": 7,
   "metadata": {},
   "outputs": [
    {
     "data": {
      "text/plain": [
       "(29685, 25)"
      ]
     },
     "execution_count": 7,
     "metadata": {},
     "output_type": "execute_result"
    }
   ],
   "source": [
    "df_clean.shape\n",
    "# (29685, 25)"
   ]
  },
  {
   "cell_type": "code",
   "execution_count": 8,
   "metadata": {},
   "outputs": [
    {
     "data": {
      "text/plain": [
       "29685"
      ]
     },
     "execution_count": 8,
     "metadata": {},
     "output_type": "execute_result"
    }
   ],
   "source": [
    "df_clean['ID'].nunique()\n",
    "# 29685"
   ]
  },
  {
   "cell_type": "markdown",
   "metadata": {},
   "source": [
    "Clean up the `EDUCATION` and `MARRIAGE` features as in Chapter 1"
   ]
  },
  {
   "cell_type": "code",
   "execution_count": 9,
   "metadata": {},
   "outputs": [
    {
     "data": {
      "text/plain": [
       "2    13884\n",
       "1    10474\n",
       "3     4867\n",
       "5      275\n",
       "4      122\n",
       "6       49\n",
       "0       14\n",
       "Name: EDUCATION, dtype: int64"
      ]
     },
     "execution_count": 9,
     "metadata": {},
     "output_type": "execute_result"
    }
   ],
   "source": [
    "df_clean['EDUCATION'].value_counts()\n",
    "# 2    13884\n",
    "# 1    10474\n",
    "# 3     4867\n",
    "# 5      275\n",
    "# 4      122\n",
    "# 6       49\n",
    "# 0       14\n",
    "# Name: EDUCATION, dtype: int64"
   ]
  },
  {
   "cell_type": "markdown",
   "metadata": {},
   "source": [
    "\"Education (1 = graduate school; 2 = university; 3 = high school; 4 = others)\""
   ]
  },
  {
   "cell_type": "markdown",
   "metadata": {},
   "source": [
    "Assign unknown categories to other."
   ]
  },
  {
   "cell_type": "code",
   "execution_count": 10,
   "metadata": {},
   "outputs": [],
   "source": [
    "df_clean['EDUCATION'].replace(to_replace = [0, 5, 6], value = 4, inplace = True)"
   ]
  },
  {
   "cell_type": "code",
   "execution_count": 11,
   "metadata": {},
   "outputs": [
    {
     "data": {
      "text/plain": [
       "2    13884\n",
       "1    10474\n",
       "3     4867\n",
       "4      460\n",
       "Name: EDUCATION, dtype: int64"
      ]
     },
     "execution_count": 11,
     "metadata": {},
     "output_type": "execute_result"
    }
   ],
   "source": [
    "df_clean['EDUCATION'].value_counts()\n",
    "# 2    13884\n",
    "# 1    10474\n",
    "# 3     4867\n",
    "# 4      460\n",
    "# Name: EDUCATION, dtype: int64"
   ]
  },
  {
   "cell_type": "markdown",
   "metadata": {},
   "source": [
    "Examine and clean marriage feature as well:"
   ]
  },
  {
   "cell_type": "code",
   "execution_count": 12,
   "metadata": {},
   "outputs": [
    {
     "data": {
      "text/plain": [
       "2    15810\n",
       "1    13503\n",
       "3      318\n",
       "0       54\n",
       "Name: MARRIAGE, dtype: int64"
      ]
     },
     "execution_count": 12,
     "metadata": {},
     "output_type": "execute_result"
    }
   ],
   "source": [
    "df_clean['MARRIAGE'].value_counts()\n",
    "# 2    15810\n",
    "# 1    13503\n",
    "# 3      318\n",
    "# 0       54\n",
    "# Name: MARRIAGE, dtype: int64"
   ]
  },
  {
   "cell_type": "code",
   "execution_count": 13,
   "metadata": {},
   "outputs": [],
   "source": [
    "#Should only be (1 = married; 2 = single; 3 = others).\n",
    "df_clean['MARRIAGE'].replace(to_replace = 0, value = 3, inplace = True)"
   ]
  },
  {
   "cell_type": "code",
   "execution_count": 14,
   "metadata": {},
   "outputs": [
    {
     "data": {
      "text/plain": [
       "2    15810\n",
       "1    13503\n",
       "3      372\n",
       "Name: MARRIAGE, dtype: int64"
      ]
     },
     "execution_count": 14,
     "metadata": {},
     "output_type": "execute_result"
    }
   ],
   "source": [
    "df_clean['MARRIAGE'].value_counts()\n",
    "# 2    15810\n",
    "# 1    13503\n",
    "# 3      372\n",
    "# Name: MARRIAGE, dtype: int64"
   ]
  },
  {
   "cell_type": "markdown",
   "metadata": {},
   "source": [
    "Now instead of removing rows with `PAY_1` = 'Not available', as done in Chapter 1, here select these out for addition to training and testing splits."
   ]
  },
  {
   "cell_type": "code",
   "execution_count": 15,
   "metadata": {},
   "outputs": [
    {
     "data": {
      "text/plain": [
       "0                13087\n",
       "-1                5047\n",
       "1                 3261\n",
       "Not available     3021\n",
       "-2                2476\n",
       "2                 2378\n",
       "3                  292\n",
       "4                   63\n",
       "5                   23\n",
       "8                   17\n",
       "6                   11\n",
       "7                    9\n",
       "Name: PAY_1, dtype: int64"
      ]
     },
     "execution_count": 15,
     "metadata": {},
     "output_type": "execute_result"
    }
   ],
   "source": [
    "df_clean['PAY_1'].value_counts()\n",
    "# 0                13087\n",
    "# -1                5047\n",
    "# 1                 3261\n",
    "# Not available     3021\n",
    "# -2                2476\n",
    "# 2                 2378\n",
    "# 3                  292\n",
    "# 4                   63\n",
    "# 5                   23\n",
    "# 8                   17\n",
    "# 6                   11\n",
    "# 7                    9\n",
    "# Name: PAY_1, dtype: int64"
   ]
  },
  {
   "cell_type": "code",
   "execution_count": 16,
   "metadata": {},
   "outputs": [],
   "source": [
    "missing_pay_1_mask = (df_clean['PAY_1'] == 'Not available')"
   ]
  },
  {
   "cell_type": "code",
   "execution_count": 17,
   "metadata": {},
   "outputs": [
    {
     "data": {
      "text/plain": [
       "3021"
      ]
     },
     "execution_count": 17,
     "metadata": {},
     "output_type": "execute_result"
    }
   ],
   "source": [
    "sum(missing_pay_1_mask)\n",
    "# 3021"
   ]
  },
  {
   "cell_type": "code",
   "execution_count": 18,
   "metadata": {},
   "outputs": [],
   "source": [
    "df_missing_pay_1 = df_clean.loc[missing_pay_1_mask, :].copy()"
   ]
  },
  {
   "cell_type": "code",
   "execution_count": 19,
   "metadata": {},
   "outputs": [
    {
     "data": {
      "text/plain": [
       "(3021, 25)"
      ]
     },
     "execution_count": 19,
     "metadata": {},
     "output_type": "execute_result"
    }
   ],
   "source": [
    "df_missing_pay_1.shape\n",
    "# (3021, 25)"
   ]
  },
  {
   "cell_type": "code",
   "execution_count": 20,
   "metadata": {},
   "outputs": [
    {
     "data": {
      "text/plain": [
       "17    Not available\n",
       "28    Not available\n",
       "29    Not available\n",
       "Name: PAY_1, dtype: object"
      ]
     },
     "execution_count": 20,
     "metadata": {},
     "output_type": "execute_result"
    }
   ],
   "source": [
    "df_missing_pay_1['PAY_1'].head(3)"
   ]
  },
  {
   "cell_type": "code",
   "execution_count": 21,
   "metadata": {},
   "outputs": [
    {
     "data": {
      "text/plain": [
       "Not available    3021\n",
       "Name: PAY_1, dtype: int64"
      ]
     },
     "execution_count": 21,
     "metadata": {},
     "output_type": "execute_result"
    }
   ],
   "source": [
    "df_missing_pay_1['PAY_1'].value_counts()"
   ]
  },
  {
   "cell_type": "code",
   "execution_count": 24,
   "metadata": {},
   "outputs": [
    {
     "data": {
      "text/plain": [
       "Index(['ID', 'LIMIT_BAL', 'SEX', 'EDUCATION', 'MARRIAGE', 'AGE', 'PAY_1',\n",
       "       'PAY_2', 'PAY_3', 'PAY_4', 'PAY_5', 'PAY_6', 'BILL_AMT1', 'BILL_AMT2',\n",
       "       'BILL_AMT3', 'BILL_AMT4', 'BILL_AMT5', 'BILL_AMT6', 'PAY_AMT1',\n",
       "       'PAY_AMT2', 'PAY_AMT3', 'PAY_AMT4', 'PAY_AMT5', 'PAY_AMT6',\n",
       "       'default payment next month'],\n",
       "      dtype='object')"
      ]
     },
     "execution_count": 24,
     "metadata": {},
     "output_type": "execute_result"
    }
   ],
   "source": [
    "df_missing_pay_1.columns"
   ]
  },
  {
   "cell_type": "markdown",
   "metadata": {},
   "source": [
    "Load cleaned data"
   ]
  },
  {
   "cell_type": "code",
   "execution_count": 22,
   "metadata": {},
   "outputs": [],
   "source": [
    "df = pd.read_csv('cleaned_data.csv')"
   ]
  },
  {
   "cell_type": "code",
   "execution_count": 23,
   "metadata": {},
   "outputs": [
    {
     "data": {
      "text/plain": [
       "Index(['ID', 'LIMIT_BAL', 'SEX', 'EDUCATION', 'MARRIAGE', 'AGE', 'PAY_1',\n",
       "       'PAY_2', 'PAY_3', 'PAY_4', 'PAY_5', 'PAY_6', 'BILL_AMT1', 'BILL_AMT2',\n",
       "       'BILL_AMT3', 'BILL_AMT4', 'BILL_AMT5', 'BILL_AMT6', 'PAY_AMT1',\n",
       "       'PAY_AMT2', 'PAY_AMT3', 'PAY_AMT4', 'PAY_AMT5', 'PAY_AMT6',\n",
       "       'default payment next month', 'EDUCATION_CAT', 'graduate school',\n",
       "       'high school', 'others', 'university'],\n",
       "      dtype='object')"
      ]
     },
     "execution_count": 23,
     "metadata": {},
     "output_type": "execute_result"
    }
   ],
   "source": [
    "df.columns"
   ]
  },
  {
   "cell_type": "code",
   "execution_count": 24,
   "metadata": {},
   "outputs": [
    {
     "data": {
      "text/plain": [
       "['ID',\n",
       " 'LIMIT_BAL',\n",
       " 'SEX',\n",
       " 'EDUCATION',\n",
       " 'MARRIAGE',\n",
       " 'AGE',\n",
       " 'PAY_1',\n",
       " 'PAY_2',\n",
       " 'PAY_3',\n",
       " 'PAY_4',\n",
       " 'PAY_5',\n",
       " 'PAY_6',\n",
       " 'BILL_AMT1',\n",
       " 'BILL_AMT2',\n",
       " 'BILL_AMT3',\n",
       " 'BILL_AMT4',\n",
       " 'BILL_AMT5',\n",
       " 'BILL_AMT6',\n",
       " 'PAY_AMT1',\n",
       " 'PAY_AMT2',\n",
       " 'PAY_AMT3',\n",
       " 'PAY_AMT4',\n",
       " 'PAY_AMT5',\n",
       " 'PAY_AMT6',\n",
       " 'default payment next month',\n",
       " 'EDUCATION_CAT',\n",
       " 'graduate school',\n",
       " 'high school',\n",
       " 'others',\n",
       " 'university']"
      ]
     },
     "execution_count": 24,
     "metadata": {},
     "output_type": "execute_result"
    }
   ],
   "source": [
    "features_response = df.columns.tolist()\n",
    "features_response"
   ]
  },
  {
   "cell_type": "code",
   "execution_count": 25,
   "metadata": {},
   "outputs": [],
   "source": [
    "items_to_remove = ['ID', 'SEX', 'PAY_2', 'PAY_3', 'PAY_4', 'PAY_5', 'PAY_6', 'EDUCATION_CAT', 'graduate school', 'high school',\n",
    "                   'none', 'others', 'university']"
   ]
  },
  {
   "cell_type": "code",
   "execution_count": 26,
   "metadata": {},
   "outputs": [
    {
     "data": {
      "text/plain": [
       "['LIMIT_BAL',\n",
       " 'EDUCATION',\n",
       " 'MARRIAGE',\n",
       " 'AGE',\n",
       " 'PAY_1',\n",
       " 'BILL_AMT1',\n",
       " 'BILL_AMT2',\n",
       " 'BILL_AMT3',\n",
       " 'BILL_AMT4',\n",
       " 'BILL_AMT5',\n",
       " 'BILL_AMT6',\n",
       " 'PAY_AMT1',\n",
       " 'PAY_AMT2',\n",
       " 'PAY_AMT3',\n",
       " 'PAY_AMT4',\n",
       " 'PAY_AMT5',\n",
       " 'PAY_AMT6',\n",
       " 'default payment next month']"
      ]
     },
     "execution_count": 26,
     "metadata": {},
     "output_type": "execute_result"
    }
   ],
   "source": [
    "features_response = [item for item in features_response if item not in items_to_remove]\n",
    "features_response"
   ]
  },
  {
   "cell_type": "markdown",
   "metadata": {},
   "source": [
    "##### Mode and Random Imputation of `PAY_1`"
   ]
  },
  {
   "cell_type": "code",
   "execution_count": 27,
   "metadata": {},
   "outputs": [],
   "source": [
    "from sklearn.model_selection import train_test_split"
   ]
  },
  {
   "cell_type": "code",
   "execution_count": 28,
   "metadata": {},
   "outputs": [],
   "source": [
    "X_train, X_test, y_train, y_test = \\\n",
    "train_test_split(df[features_response[:-1]].values, df['default payment next month'].values,\n",
    "test_size = 0.2, random_state = 24)"
   ]
  },
  {
   "cell_type": "code",
   "execution_count": 29,
   "metadata": {},
   "outputs": [
    {
     "name": "stdout",
     "output_type": "stream",
     "text": [
      "(21331, 17)\n",
      "(5333, 17)\n",
      "(21331,)\n",
      "(5333,)\n"
     ]
    }
   ],
   "source": [
    "print(X_train.shape)\n",
    "print(X_test.shape)\n",
    "print(y_train.shape)\n",
    "print(y_test.shape)\n",
    "# (21331, 17)\n",
    "# (5333, 17)\n",
    "# (21331,)\n",
    "# (5333,)"
   ]
  },
  {
   "cell_type": "code",
   "execution_count": 30,
   "metadata": {},
   "outputs": [
    {
     "data": {
      "text/plain": [
       "(3021, 25)"
      ]
     },
     "execution_count": 30,
     "metadata": {},
     "output_type": "execute_result"
    }
   ],
   "source": [
    "df_missing_pay_1.shape"
   ]
  },
  {
   "cell_type": "code",
   "execution_count": 31,
   "metadata": {},
   "outputs": [
    {
     "data": {
      "text/plain": [
       "'PAY_1'"
      ]
     },
     "execution_count": 31,
     "metadata": {},
     "output_type": "execute_result"
    }
   ],
   "source": [
    "features_response[4]"
   ]
  },
  {
   "cell_type": "code",
   "execution_count": 32,
   "metadata": {},
   "outputs": [
    {
     "data": {
      "text/plain": [
       "0.0"
      ]
     },
     "execution_count": 32,
     "metadata": {},
     "output_type": "execute_result"
    }
   ],
   "source": [
    "np.median(X_train[:, 4])"
   ]
  },
  {
   "cell_type": "code",
   "execution_count": 33,
   "metadata": {},
   "outputs": [],
   "source": [
    "np.random.seed(seed = 1)\n",
    "fill_values = [0, np.random.choice(X_train[:, 4], size = (3021, ), replace = True)]"
   ]
  },
  {
   "cell_type": "code",
   "execution_count": 34,
   "metadata": {},
   "outputs": [],
   "source": [
    "fill_strategy = ['mode', 'random']"
   ]
  },
  {
   "cell_type": "code",
   "execution_count": 35,
   "metadata": {},
   "outputs": [
    {
     "data": {
      "text/plain": [
       "array([ 0,  0,  0, ...,  2,  0, -2], dtype=int64)"
      ]
     },
     "execution_count": 35,
     "metadata": {},
     "output_type": "execute_result"
    }
   ],
   "source": [
    "fill_values[-1]"
   ]
  },
  {
   "cell_type": "code",
   "execution_count": 37,
   "metadata": {},
   "outputs": [
    {
     "data": {
      "image/png": "[encoded data removed]",
      "text/plain": [
       "<Figure size 864x360 with 2 Axes>"
      ]
     },
     "metadata": {
      "needs_background": "light"
     },
     "output_type": "display_data"
    }
   ],
   "source": [
    "fig, axs = plt.subplots(1, 2, figsize = (12, 5))\n",
    "bin_edges = np.arange(-2, 9)\n",
    "axs[0].hist(X_train[:,4], bins = bin_edges, align = 'left')\n",
    "axs[0].set_xticks(bin_edges)\n",
    "axs[0].set_title('Non-missing values of PAY_1')\n",
    "axs[1].hist(fill_values[-1], bins = bin_edges, align = 'left')\n",
    "axs[1].set_xticks(bin_edges)\n",
    "axs[1].set_title('Random selection for imputation')\n",
    "plt.tight_layout();"
   ]
  },
  {
   "cell_type": "markdown",
   "metadata": {},
   "source": [
    "To do cross-validation on the training set, now we need to shuffle since all the samples with missing `PAY_1` were concatenated on to the end."
   ]
  },
  {
   "cell_type": "code",
   "execution_count": 38,
   "metadata": {},
   "outputs": [],
   "source": [
    "from sklearn.model_selection import KFold"
   ]
  },
  {
   "cell_type": "code",
   "execution_count": 39,
   "metadata": {},
   "outputs": [],
   "source": [
    "k_folds = KFold(n_splits = 4, shuffle = True, random_state = 1)"
   ]
  },
  {
   "cell_type": "markdown",
   "metadata": {},
   "source": [
    "Don't need to do a grid search, so we can use `cross_validate`"
   ]
  },
  {
   "cell_type": "code",
   "execution_count": 40,
   "metadata": {},
   "outputs": [],
   "source": [
    "from sklearn.model_selection import cross_validate"
   ]
  },
  {
   "cell_type": "markdown",
   "metadata": {},
   "source": [
    "For the estimator, set the optimal hyperparameters determined in previous chapter."
   ]
  },
  {
   "cell_type": "code",
   "execution_count": 41,
   "metadata": {},
   "outputs": [],
   "source": [
    "from sklearn.ensemble import RandomForestClassifier"
   ]
  },
  {
   "cell_type": "code",
   "execution_count": 42,
   "metadata": {},
   "outputs": [],
   "source": [
    "rf = RandomForestClassifier\\\n",
    "(n_estimators = 200, criterion = 'gini', max_depth = 9, min_samples_split = 2, min_samples_leaf = 1, n_jobs = None,\n",
    " min_weight_fraction_leaf = 0.0, max_features = 'auto', max_leaf_nodes = None, min_impurity_decrease = 0.0, oob_score = False,\n",
    " min_impurity_split = None, bootstrap = True, random_state = 4, verbose = 1, warm_start = False, class_weight = None)"
   ]
  },
  {
   "cell_type": "code",
   "execution_count": 43,
   "metadata": {},
   "outputs": [
    {
     "name": "stderr",
     "output_type": "stream",
     "text": [
      "[Parallel(n_jobs=-1)]: Using backend LokyBackend with 4 concurrent workers.\n",
      "[Parallel(n_jobs=-1)]: Done   2 out of   4 | elapsed:   24.9s remaining:   24.9s\n",
      "[Parallel(n_jobs=-1)]: Done   4 out of   4 | elapsed:   25.1s finished\n"
     ]
    },
    {
     "name": "stdout",
     "output_type": "stream",
     "text": [
      "mode imputation: mean testing score 0.7727809248607616, std 0.0032236910870386687\n"
     ]
    },
    {
     "name": "stderr",
     "output_type": "stream",
     "text": [
      "[Parallel(n_jobs=-1)]: Using backend LokyBackend with 4 concurrent workers.\n",
      "[Parallel(n_jobs=-1)]: Done   2 out of   4 | elapsed:   22.5s remaining:   22.5s\n",
      "[Parallel(n_jobs=-1)]: Done   4 out of   4 | elapsed:   22.6s finished\n"
     ]
    },
    {
     "name": "stdout",
     "output_type": "stream",
     "text": [
      "random imputation: mean testing score 0.7693902401846155, std 0.0036131873745810744\n"
     ]
    }
   ],
   "source": [
    "for counter in range(len(fill_values)):\n",
    "    #Copy the data frame with missing PAY_1 and assign imputed values\n",
    "    df_fill_pay_1_filled = df_missing_pay_1.copy()\n",
    "    df_fill_pay_1_filled['PAY_1'] = fill_values[counter]\n",
    "    \n",
    "    #Split imputed data in to training and testing, using the same\n",
    "    #80/20 split we have used for the data with non-missing PAY_1\n",
    "    X_fill_pay_1_train, X_fill_pay_1_test, y_fill_pay_1_train, y_fill_pay_1_test = \\\n",
    "    train_test_split(\n",
    "        df_fill_pay_1_filled[features_response[:-1]].values,\n",
    "        df_fill_pay_1_filled['default payment next month'].values,\n",
    "    test_size=0.2, random_state=24)\n",
    "    \n",
    "    #Concatenate the imputed data with the array of non-missing data\n",
    "    X_train_all = np.concatenate((X_train, X_fill_pay_1_train), axis=0)\n",
    "    y_train_all = np.concatenate((y_train, y_fill_pay_1_train), axis=0)\n",
    "    \n",
    "    #Use the KFolds splitter and the random forest model to get\n",
    "    #4-fold cross-validation scores for both imputation methods\n",
    "    imputation_compare_cv = cross_validate(rf, X_train_all, y_train_all, scoring='roc_auc',\n",
    "                                       cv=k_folds, n_jobs=-1, verbose=1,\n",
    "                                       return_train_score=True, return_estimator=True,\n",
    "                                       error_score='raise-deprecating')\n",
    "    \n",
    "    test_score = imputation_compare_cv['test_score']\n",
    "    print(fill_strategy[counter] + ' imputation: ' +\n",
    "          'mean testing score ' + str(np.mean(test_score)) +\n",
    "          ', std ' + str(np.std(test_score)))"
   ]
  },
  {
   "cell_type": "markdown",
   "metadata": {},
   "source": [
    "##### A Predictive Model for `PAY_1`"
   ]
  },
  {
   "cell_type": "code",
   "execution_count": 44,
   "metadata": {},
   "outputs": [],
   "source": [
    "pay_1_df = df.copy()"
   ]
  },
  {
   "cell_type": "code",
   "execution_count": 45,
   "metadata": {},
   "outputs": [],
   "source": [
    "features_for_imputation = pay_1_df.columns.tolist()"
   ]
  },
  {
   "cell_type": "code",
   "execution_count": 46,
   "metadata": {},
   "outputs": [],
   "source": [
    "items_to_remove_2 = ['ID', 'SEX', 'PAY_2', 'PAY_3', 'PAY_4', 'PAY_5', 'PAY_6',\n",
    "                   'EDUCATION_CAT', 'graduate school', 'high school', 'none',\n",
    "                   'others', 'university', 'default payment next month', 'PAY_1']"
   ]
  },
  {
   "cell_type": "code",
   "execution_count": 47,
   "metadata": {},
   "outputs": [
    {
     "data": {
      "text/plain": [
       "['LIMIT_BAL',\n",
       " 'EDUCATION',\n",
       " 'MARRIAGE',\n",
       " 'AGE',\n",
       " 'BILL_AMT1',\n",
       " 'BILL_AMT2',\n",
       " 'BILL_AMT3',\n",
       " 'BILL_AMT4',\n",
       " 'BILL_AMT5',\n",
       " 'BILL_AMT6',\n",
       " 'PAY_AMT1',\n",
       " 'PAY_AMT2',\n",
       " 'PAY_AMT3',\n",
       " 'PAY_AMT4',\n",
       " 'PAY_AMT5',\n",
       " 'PAY_AMT6']"
      ]
     },
     "execution_count": 47,
     "metadata": {},
     "output_type": "execute_result"
    }
   ],
   "source": [
    "features_for_imputation = [item for item in features_for_imputation if item not in items_to_remove_2]\n",
    "features_for_imputation"
   ]
  },
  {
   "cell_type": "markdown",
   "metadata": {},
   "source": [
    "##### Building a Multiclass Classification Model for Imputation"
   ]
  },
  {
   "cell_type": "code",
   "execution_count": 48,
   "metadata": {},
   "outputs": [],
   "source": [
    "X_impute_train, X_impute_test, y_impute_train, y_impute_test = \\\n",
    "train_test_split(pay_1_df[features_for_imputation].values, pay_1_df['PAY_1'].values, test_size = 0.2, random_state = 24)"
   ]
  },
  {
   "cell_type": "code",
   "execution_count": 49,
   "metadata": {},
   "outputs": [],
   "source": [
    "rf_impute_params = {'max_depth':[3, 6, 9, 12], 'n_estimators':[10, 50, 100, 200]}"
   ]
  },
  {
   "cell_type": "code",
   "execution_count": 50,
   "metadata": {},
   "outputs": [],
   "source": [
    "from sklearn.model_selection import GridSearchCV"
   ]
  },
  {
   "cell_type": "markdown",
   "metadata": {},
   "source": [
    "Need to use accuracy here as ROC AUC is not supported for multiclass. Need to use multiclass and not regression because need to limit to integer values of `PAY_1`."
   ]
  },
  {
   "cell_type": "code",
   "execution_count": 51,
   "metadata": {},
   "outputs": [],
   "source": [
    "cv_rf_impute = GridSearchCV(rf, param_grid=rf_impute_params, scoring='accuracy',\n",
    "                            n_jobs=-1, iid=False, refit=True,\n",
    "                            cv=4, verbose=2, error_score=np.nan, return_train_score=True)"
   ]
  },
  {
   "cell_type": "code",
   "execution_count": 52,
   "metadata": {
    "scrolled": true
   },
   "outputs": [
    {
     "name": "stdout",
     "output_type": "stream",
     "text": [
      "Fitting 4 folds for each of 16 candidates, totalling 64 fits\n"
     ]
    },
    {
     "name": "stderr",
     "output_type": "stream",
     "text": [
      "[Parallel(n_jobs=-1)]: Using backend LokyBackend with 4 concurrent workers.\n",
      "[Parallel(n_jobs=-1)]: Done  33 tasks      | elapsed:   52.7s\n",
      "[Parallel(n_jobs=-1)]: Done  64 out of  64 | elapsed:  2.5min finished\n",
      "C:\\Users\\admin\\AppData\\Roaming\\Python\\Python37\\site-packages\\sklearn\\model_selection\\_search.py:849: FutureWarning: The parameter 'iid' is deprecated in 0.22 and will be removed in 0.24.\n",
      "  \"removed in 0.24.\", FutureWarning\n",
      "[Parallel(n_jobs=1)]: Using backend SequentialBackend with 1 concurrent workers.\n",
      "[Parallel(n_jobs=1)]: Done 200 out of 200 | elapsed:   23.6s finished\n"
     ]
    },
    {
     "data": {
      "text/plain": [
       "GridSearchCV(cv=4,\n",
       "             estimator=RandomForestClassifier(max_depth=9, n_estimators=200,\n",
       "                                              random_state=4, verbose=1),\n",
       "             iid=False, n_jobs=-1,\n",
       "             param_grid={'max_depth': [3, 6, 9, 12],\n",
       "                         'n_estimators': [10, 50, 100, 200]},\n",
       "             return_train_score=True, scoring='accuracy', verbose=2)"
      ]
     },
     "execution_count": 52,
     "metadata": {},
     "output_type": "execute_result"
    }
   ],
   "source": [
    "cv_rf_impute.fit(X_impute_train, y_impute_train)"
   ]
  },
  {
   "cell_type": "code",
   "execution_count": 53,
   "metadata": {
    "scrolled": true
   },
   "outputs": [
    {
     "data": {
      "text/html": [
       "<div>\n",
       "<style scoped>\n",
       "    .dataframe tbody tr th:only-of-type {\n",
       "        vertical-align: middle;\n",
       "    }\n",
       "\n",
       "    .dataframe tbody tr th {\n",
       "        vertical-align: top;\n",
       "    }\n",
       "\n",
       "    .dataframe thead th {\n",
       "        text-align: right;\n",
       "    }\n",
       "</style>\n",
       "<table border=\"1\" class=\"dataframe\">\n",
       "  <thead>\n",
       "    <tr style=\"text-align: right;\">\n",
       "      <th></th>\n",
       "      <th>mean_fit_time</th>\n",
       "      <th>std_fit_time</th>\n",
       "      <th>mean_score_time</th>\n",
       "      <th>std_score_time</th>\n",
       "      <th>param_max_depth</th>\n",
       "      <th>param_n_estimators</th>\n",
       "      <th>params</th>\n",
       "      <th>split0_test_score</th>\n",
       "      <th>split1_test_score</th>\n",
       "      <th>split2_test_score</th>\n",
       "      <th>split3_test_score</th>\n",
       "      <th>mean_test_score</th>\n",
       "      <th>std_test_score</th>\n",
       "      <th>rank_test_score</th>\n",
       "      <th>split0_train_score</th>\n",
       "      <th>split1_train_score</th>\n",
       "      <th>split2_train_score</th>\n",
       "      <th>split3_train_score</th>\n",
       "      <th>mean_train_score</th>\n",
       "      <th>std_train_score</th>\n",
       "    </tr>\n",
       "  </thead>\n",
       "  <tbody>\n",
       "    <tr>\n",
       "      <th>0</th>\n",
       "      <td>0.438865</td>\n",
       "      <td>0.021900</td>\n",
       "      <td>0.044629</td>\n",
       "      <td>0.020597</td>\n",
       "      <td>3</td>\n",
       "      <td>10</td>\n",
       "      <td>{'max_depth': 3, 'n_estimators': 10}</td>\n",
       "      <td>0.664729</td>\n",
       "      <td>0.669417</td>\n",
       "      <td>0.671479</td>\n",
       "      <td>0.664291</td>\n",
       "      <td>0.667479</td>\n",
       "      <td>0.003061</td>\n",
       "      <td>15</td>\n",
       "      <td>0.669396</td>\n",
       "      <td>0.670146</td>\n",
       "      <td>0.665146</td>\n",
       "      <td>0.670042</td>\n",
       "      <td>0.668682</td>\n",
       "      <td>0.002062</td>\n",
       "    </tr>\n",
       "    <tr>\n",
       "      <th>1</th>\n",
       "      <td>2.342168</td>\n",
       "      <td>0.024951</td>\n",
       "      <td>0.125346</td>\n",
       "      <td>0.021350</td>\n",
       "      <td>3</td>\n",
       "      <td>50</td>\n",
       "      <td>{'max_depth': 3, 'n_estimators': 50}</td>\n",
       "      <td>0.657979</td>\n",
       "      <td>0.660229</td>\n",
       "      <td>0.660604</td>\n",
       "      <td>0.651350</td>\n",
       "      <td>0.657540</td>\n",
       "      <td>0.003712</td>\n",
       "      <td>16</td>\n",
       "      <td>0.664521</td>\n",
       "      <td>0.657145</td>\n",
       "      <td>0.654082</td>\n",
       "      <td>0.660854</td>\n",
       "      <td>0.659150</td>\n",
       "      <td>0.003920</td>\n",
       "    </tr>\n",
       "    <tr>\n",
       "      <th>2</th>\n",
       "      <td>4.290074</td>\n",
       "      <td>0.019891</td>\n",
       "      <td>0.213684</td>\n",
       "      <td>0.005467</td>\n",
       "      <td>3</td>\n",
       "      <td>100</td>\n",
       "      <td>{'max_depth': 3, 'n_estimators': 100}</td>\n",
       "      <td>0.672605</td>\n",
       "      <td>0.673542</td>\n",
       "      <td>0.675792</td>\n",
       "      <td>0.667854</td>\n",
       "      <td>0.672448</td>\n",
       "      <td>0.002894</td>\n",
       "      <td>13</td>\n",
       "      <td>0.677835</td>\n",
       "      <td>0.675147</td>\n",
       "      <td>0.670521</td>\n",
       "      <td>0.676167</td>\n",
       "      <td>0.674918</td>\n",
       "      <td>0.002713</td>\n",
       "    </tr>\n",
       "    <tr>\n",
       "      <th>3</th>\n",
       "      <td>8.287901</td>\n",
       "      <td>0.021675</td>\n",
       "      <td>0.411067</td>\n",
       "      <td>0.015574</td>\n",
       "      <td>3</td>\n",
       "      <td>200</td>\n",
       "      <td>{'max_depth': 3, 'n_estimators': 200}</td>\n",
       "      <td>0.664917</td>\n",
       "      <td>0.666042</td>\n",
       "      <td>0.675792</td>\n",
       "      <td>0.666354</td>\n",
       "      <td>0.668276</td>\n",
       "      <td>0.004372</td>\n",
       "      <td>14</td>\n",
       "      <td>0.672334</td>\n",
       "      <td>0.668896</td>\n",
       "      <td>0.669021</td>\n",
       "      <td>0.672605</td>\n",
       "      <td>0.670714</td>\n",
       "      <td>0.001758</td>\n",
       "    </tr>\n",
       "    <tr>\n",
       "      <th>4</th>\n",
       "      <td>0.707046</td>\n",
       "      <td>0.007855</td>\n",
       "      <td>0.031207</td>\n",
       "      <td>0.006499</td>\n",
       "      <td>6</td>\n",
       "      <td>10</td>\n",
       "      <td>{'max_depth': 6, 'n_estimators': 10}</td>\n",
       "      <td>0.710294</td>\n",
       "      <td>0.706919</td>\n",
       "      <td>0.713482</td>\n",
       "      <td>0.700863</td>\n",
       "      <td>0.707890</td>\n",
       "      <td>0.004674</td>\n",
       "      <td>12</td>\n",
       "      <td>0.716965</td>\n",
       "      <td>0.717027</td>\n",
       "      <td>0.718465</td>\n",
       "      <td>0.711607</td>\n",
       "      <td>0.716016</td>\n",
       "      <td>0.002615</td>\n",
       "    </tr>\n",
       "    <tr>\n",
       "      <th>5</th>\n",
       "      <td>3.540853</td>\n",
       "      <td>0.025429</td>\n",
       "      <td>0.107642</td>\n",
       "      <td>0.007005</td>\n",
       "      <td>6</td>\n",
       "      <td>50</td>\n",
       "      <td>{'max_depth': 6, 'n_estimators': 50}</td>\n",
       "      <td>0.708232</td>\n",
       "      <td>0.709357</td>\n",
       "      <td>0.713107</td>\n",
       "      <td>0.704426</td>\n",
       "      <td>0.708780</td>\n",
       "      <td>0.003095</td>\n",
       "      <td>11</td>\n",
       "      <td>0.717152</td>\n",
       "      <td>0.716340</td>\n",
       "      <td>0.719777</td>\n",
       "      <td>0.716420</td>\n",
       "      <td>0.717422</td>\n",
       "      <td>0.001396</td>\n",
       "    </tr>\n",
       "    <tr>\n",
       "      <th>6</th>\n",
       "      <td>8.704082</td>\n",
       "      <td>0.080708</td>\n",
       "      <td>0.262653</td>\n",
       "      <td>0.019247</td>\n",
       "      <td>6</td>\n",
       "      <td>100</td>\n",
       "      <td>{'max_depth': 6, 'n_estimators': 100}</td>\n",
       "      <td>0.709544</td>\n",
       "      <td>0.708419</td>\n",
       "      <td>0.714232</td>\n",
       "      <td>0.706677</td>\n",
       "      <td>0.709718</td>\n",
       "      <td>0.002799</td>\n",
       "      <td>10</td>\n",
       "      <td>0.718715</td>\n",
       "      <td>0.717277</td>\n",
       "      <td>0.719402</td>\n",
       "      <td>0.718295</td>\n",
       "      <td>0.718422</td>\n",
       "      <td>0.000770</td>\n",
       "    </tr>\n",
       "    <tr>\n",
       "      <th>7</th>\n",
       "      <td>14.829450</td>\n",
       "      <td>0.092583</td>\n",
       "      <td>0.457408</td>\n",
       "      <td>0.014854</td>\n",
       "      <td>6</td>\n",
       "      <td>200</td>\n",
       "      <td>{'max_depth': 6, 'n_estimators': 200}</td>\n",
       "      <td>0.710294</td>\n",
       "      <td>0.709169</td>\n",
       "      <td>0.715545</td>\n",
       "      <td>0.705926</td>\n",
       "      <td>0.710234</td>\n",
       "      <td>0.003460</td>\n",
       "      <td>9</td>\n",
       "      <td>0.718965</td>\n",
       "      <td>0.717652</td>\n",
       "      <td>0.719965</td>\n",
       "      <td>0.718232</td>\n",
       "      <td>0.718704</td>\n",
       "      <td>0.000864</td>\n",
       "    </tr>\n",
       "    <tr>\n",
       "      <th>8</th>\n",
       "      <td>1.029035</td>\n",
       "      <td>0.035870</td>\n",
       "      <td>0.036325</td>\n",
       "      <td>0.003279</td>\n",
       "      <td>9</td>\n",
       "      <td>10</td>\n",
       "      <td>{'max_depth': 9, 'n_estimators': 10}</td>\n",
       "      <td>0.718732</td>\n",
       "      <td>0.722858</td>\n",
       "      <td>0.721733</td>\n",
       "      <td>0.721868</td>\n",
       "      <td>0.721298</td>\n",
       "      <td>0.001543</td>\n",
       "      <td>7</td>\n",
       "      <td>0.767783</td>\n",
       "      <td>0.773972</td>\n",
       "      <td>0.768034</td>\n",
       "      <td>0.771736</td>\n",
       "      <td>0.770381</td>\n",
       "      <td>0.002597</td>\n",
       "    </tr>\n",
       "    <tr>\n",
       "      <th>9</th>\n",
       "      <td>5.478440</td>\n",
       "      <td>0.074812</td>\n",
       "      <td>0.175860</td>\n",
       "      <td>0.072066</td>\n",
       "      <td>9</td>\n",
       "      <td>50</td>\n",
       "      <td>{'max_depth': 9, 'n_estimators': 50}</td>\n",
       "      <td>0.726420</td>\n",
       "      <td>0.728483</td>\n",
       "      <td>0.726233</td>\n",
       "      <td>0.729557</td>\n",
       "      <td>0.727673</td>\n",
       "      <td>0.001401</td>\n",
       "      <td>6</td>\n",
       "      <td>0.770409</td>\n",
       "      <td>0.774222</td>\n",
       "      <td>0.771721</td>\n",
       "      <td>0.772111</td>\n",
       "      <td>0.772116</td>\n",
       "      <td>0.001370</td>\n",
       "    </tr>\n",
       "    <tr>\n",
       "      <th>10</th>\n",
       "      <td>13.783917</td>\n",
       "      <td>0.190546</td>\n",
       "      <td>0.266410</td>\n",
       "      <td>0.008348</td>\n",
       "      <td>9</td>\n",
       "      <td>100</td>\n",
       "      <td>{'max_depth': 9, 'n_estimators': 100}</td>\n",
       "      <td>0.728858</td>\n",
       "      <td>0.726983</td>\n",
       "      <td>0.725670</td>\n",
       "      <td>0.733683</td>\n",
       "      <td>0.728799</td>\n",
       "      <td>0.003039</td>\n",
       "      <td>4</td>\n",
       "      <td>0.770721</td>\n",
       "      <td>0.773284</td>\n",
       "      <td>0.774534</td>\n",
       "      <td>0.771798</td>\n",
       "      <td>0.772585</td>\n",
       "      <td>0.001447</td>\n",
       "    </tr>\n",
       "    <tr>\n",
       "      <th>11</th>\n",
       "      <td>21.468492</td>\n",
       "      <td>0.133491</td>\n",
       "      <td>0.618987</td>\n",
       "      <td>0.074206</td>\n",
       "      <td>9</td>\n",
       "      <td>200</td>\n",
       "      <td>{'max_depth': 9, 'n_estimators': 200}</td>\n",
       "      <td>0.729233</td>\n",
       "      <td>0.727358</td>\n",
       "      <td>0.725483</td>\n",
       "      <td>0.731433</td>\n",
       "      <td>0.728377</td>\n",
       "      <td>0.002207</td>\n",
       "      <td>5</td>\n",
       "      <td>0.769346</td>\n",
       "      <td>0.773409</td>\n",
       "      <td>0.775097</td>\n",
       "      <td>0.770798</td>\n",
       "      <td>0.772163</td>\n",
       "      <td>0.002234</td>\n",
       "    </tr>\n",
       "    <tr>\n",
       "      <th>12</th>\n",
       "      <td>1.307133</td>\n",
       "      <td>0.053331</td>\n",
       "      <td>0.060843</td>\n",
       "      <td>0.016777</td>\n",
       "      <td>12</td>\n",
       "      <td>10</td>\n",
       "      <td>{'max_depth': 12, 'n_estimators': 10}</td>\n",
       "      <td>0.718732</td>\n",
       "      <td>0.717607</td>\n",
       "      <td>0.716857</td>\n",
       "      <td>0.720180</td>\n",
       "      <td>0.718344</td>\n",
       "      <td>0.001252</td>\n",
       "      <td>8</td>\n",
       "      <td>0.840418</td>\n",
       "      <td>0.850731</td>\n",
       "      <td>0.848794</td>\n",
       "      <td>0.844928</td>\n",
       "      <td>0.846218</td>\n",
       "      <td>0.003947</td>\n",
       "    </tr>\n",
       "    <tr>\n",
       "      <th>13</th>\n",
       "      <td>7.326530</td>\n",
       "      <td>0.047334</td>\n",
       "      <td>0.154954</td>\n",
       "      <td>0.014397</td>\n",
       "      <td>12</td>\n",
       "      <td>50</td>\n",
       "      <td>{'max_depth': 12, 'n_estimators': 50}</td>\n",
       "      <td>0.732421</td>\n",
       "      <td>0.730921</td>\n",
       "      <td>0.729983</td>\n",
       "      <td>0.729557</td>\n",
       "      <td>0.730720</td>\n",
       "      <td>0.001099</td>\n",
       "      <td>3</td>\n",
       "      <td>0.853419</td>\n",
       "      <td>0.860608</td>\n",
       "      <td>0.862233</td>\n",
       "      <td>0.859429</td>\n",
       "      <td>0.858922</td>\n",
       "      <td>0.003329</td>\n",
       "    </tr>\n",
       "    <tr>\n",
       "      <th>14</th>\n",
       "      <td>12.392670</td>\n",
       "      <td>0.088280</td>\n",
       "      <td>0.280159</td>\n",
       "      <td>0.016757</td>\n",
       "      <td>12</td>\n",
       "      <td>100</td>\n",
       "      <td>{'max_depth': 12, 'n_estimators': 100}</td>\n",
       "      <td>0.735046</td>\n",
       "      <td>0.729608</td>\n",
       "      <td>0.731858</td>\n",
       "      <td>0.733871</td>\n",
       "      <td>0.732596</td>\n",
       "      <td>0.002068</td>\n",
       "      <td>2</td>\n",
       "      <td>0.857920</td>\n",
       "      <td>0.862170</td>\n",
       "      <td>0.863795</td>\n",
       "      <td>0.859366</td>\n",
       "      <td>0.860813</td>\n",
       "      <td>0.002302</td>\n",
       "    </tr>\n",
       "    <tr>\n",
       "      <th>15</th>\n",
       "      <td>24.979940</td>\n",
       "      <td>0.129919</td>\n",
       "      <td>0.615426</td>\n",
       "      <td>0.015365</td>\n",
       "      <td>12</td>\n",
       "      <td>200</td>\n",
       "      <td>{'max_depth': 12, 'n_estimators': 200}</td>\n",
       "      <td>0.735233</td>\n",
       "      <td>0.730921</td>\n",
       "      <td>0.731296</td>\n",
       "      <td>0.734621</td>\n",
       "      <td>0.733018</td>\n",
       "      <td>0.001926</td>\n",
       "      <td>1</td>\n",
       "      <td>0.857982</td>\n",
       "      <td>0.861545</td>\n",
       "      <td>0.863045</td>\n",
       "      <td>0.861616</td>\n",
       "      <td>0.861047</td>\n",
       "      <td>0.001868</td>\n",
       "    </tr>\n",
       "  </tbody>\n",
       "</table>\n",
       "</div>"
      ],
      "text/plain": [
       "    mean_fit_time  std_fit_time  mean_score_time  std_score_time  \\\n",
       "0        0.438865      0.021900         0.044629        0.020597   \n",
       "1        2.342168      0.024951         0.125346        0.021350   \n",
       "2        4.290074      0.019891         0.213684        0.005467   \n",
       "3        8.287901      0.021675         0.411067        0.015574   \n",
       "4        0.707046      0.007855         0.031207        0.006499   \n",
       "5        3.540853      0.025429         0.107642        0.007005   \n",
       "6        8.704082      0.080708         0.262653        0.019247   \n",
       "7       14.829450      0.092583         0.457408        0.014854   \n",
       "8        1.029035      0.035870         0.036325        0.003279   \n",
       "9        5.478440      0.074812         0.175860        0.072066   \n",
       "10      13.783917      0.190546         0.266410        0.008348   \n",
       "11      21.468492      0.133491         0.618987        0.074206   \n",
       "12       1.307133      0.053331         0.060843        0.016777   \n",
       "13       7.326530      0.047334         0.154954        0.014397   \n",
       "14      12.392670      0.088280         0.280159        0.016757   \n",
       "15      24.979940      0.129919         0.615426        0.015365   \n",
       "\n",
       "   param_max_depth param_n_estimators                                  params  \\\n",
       "0                3                 10    {'max_depth': 3, 'n_estimators': 10}   \n",
       "1                3                 50    {'max_depth': 3, 'n_estimators': 50}   \n",
       "2                3                100   {'max_depth': 3, 'n_estimators': 100}   \n",
       "3                3                200   {'max_depth': 3, 'n_estimators': 200}   \n",
       "4                6                 10    {'max_depth': 6, 'n_estimators': 10}   \n",
       "5                6                 50    {'max_depth': 6, 'n_estimators': 50}   \n",
       "6                6                100   {'max_depth': 6, 'n_estimators': 100}   \n",
       "7                6                200   {'max_depth': 6, 'n_estimators': 200}   \n",
       "8                9                 10    {'max_depth': 9, 'n_estimators': 10}   \n",
       "9                9                 50    {'max_depth': 9, 'n_estimators': 50}   \n",
       "10               9                100   {'max_depth': 9, 'n_estimators': 100}   \n",
       "11               9                200   {'max_depth': 9, 'n_estimators': 200}   \n",
       "12              12                 10   {'max_depth': 12, 'n_estimators': 10}   \n",
       "13              12                 50   {'max_depth': 12, 'n_estimators': 50}   \n",
       "14              12                100  {'max_depth': 12, 'n_estimators': 100}   \n",
       "15              12                200  {'max_depth': 12, 'n_estimators': 200}   \n",
       "\n",
       "    split0_test_score  split1_test_score  split2_test_score  \\\n",
       "0            0.664729           0.669417           0.671479   \n",
       "1            0.657979           0.660229           0.660604   \n",
       "2            0.672605           0.673542           0.675792   \n",
       "3            0.664917           0.666042           0.675792   \n",
       "4            0.710294           0.706919           0.713482   \n",
       "5            0.708232           0.709357           0.713107   \n",
       "6            0.709544           0.708419           0.714232   \n",
       "7            0.710294           0.709169           0.715545   \n",
       "8            0.718732           0.722858           0.721733   \n",
       "9            0.726420           0.728483           0.726233   \n",
       "10           0.728858           0.726983           0.725670   \n",
       "11           0.729233           0.727358           0.725483   \n",
       "12           0.718732           0.717607           0.716857   \n",
       "13           0.732421           0.730921           0.729983   \n",
       "14           0.735046           0.729608           0.731858   \n",
       "15           0.735233           0.730921           0.731296   \n",
       "\n",
       "    split3_test_score  mean_test_score  std_test_score  rank_test_score  \\\n",
       "0            0.664291         0.667479        0.003061               15   \n",
       "1            0.651350         0.657540        0.003712               16   \n",
       "2            0.667854         0.672448        0.002894               13   \n",
       "3            0.666354         0.668276        0.004372               14   \n",
       "4            0.700863         0.707890        0.004674               12   \n",
       "5            0.704426         0.708780        0.003095               11   \n",
       "6            0.706677         0.709718        0.002799               10   \n",
       "7            0.705926         0.710234        0.003460                9   \n",
       "8            0.721868         0.721298        0.001543                7   \n",
       "9            0.729557         0.727673        0.001401                6   \n",
       "10           0.733683         0.728799        0.003039                4   \n",
       "11           0.731433         0.728377        0.002207                5   \n",
       "12           0.720180         0.718344        0.001252                8   \n",
       "13           0.729557         0.730720        0.001099                3   \n",
       "14           0.733871         0.732596        0.002068                2   \n",
       "15           0.734621         0.733018        0.001926                1   \n",
       "\n",
       "    split0_train_score  split1_train_score  split2_train_score  \\\n",
       "0             0.669396            0.670146            0.665146   \n",
       "1             0.664521            0.657145            0.654082   \n",
       "2             0.677835            0.675147            0.670521   \n",
       "3             0.672334            0.668896            0.669021   \n",
       "4             0.716965            0.717027            0.718465   \n",
       "5             0.717152            0.716340            0.719777   \n",
       "6             0.718715            0.717277            0.719402   \n",
       "7             0.718965            0.717652            0.719965   \n",
       "8             0.767783            0.773972            0.768034   \n",
       "9             0.770409            0.774222            0.771721   \n",
       "10            0.770721            0.773284            0.774534   \n",
       "11            0.769346            0.773409            0.775097   \n",
       "12            0.840418            0.850731            0.848794   \n",
       "13            0.853419            0.860608            0.862233   \n",
       "14            0.857920            0.862170            0.863795   \n",
       "15            0.857982            0.861545            0.863045   \n",
       "\n",
       "    split3_train_score  mean_train_score  std_train_score  \n",
       "0             0.670042          0.668682         0.002062  \n",
       "1             0.660854          0.659150         0.003920  \n",
       "2             0.676167          0.674918         0.002713  \n",
       "3             0.672605          0.670714         0.001758  \n",
       "4             0.711607          0.716016         0.002615  \n",
       "5             0.716420          0.717422         0.001396  \n",
       "6             0.718295          0.718422         0.000770  \n",
       "7             0.718232          0.718704         0.000864  \n",
       "8             0.771736          0.770381         0.002597  \n",
       "9             0.772111          0.772116         0.001370  \n",
       "10            0.771798          0.772585         0.001447  \n",
       "11            0.770798          0.772163         0.002234  \n",
       "12            0.844928          0.846218         0.003947  \n",
       "13            0.859429          0.858922         0.003329  \n",
       "14            0.859366          0.860813         0.002302  \n",
       "15            0.861616          0.861047         0.001868  "
      ]
     },
     "execution_count": 53,
     "metadata": {},
     "output_type": "execute_result"
    }
   ],
   "source": [
    "impute_df = pd.DataFrame(cv_rf_impute.cv_results_)\n",
    "impute_df"
   ]
  },
  {
   "cell_type": "code",
   "execution_count": 54,
   "metadata": {},
   "outputs": [
    {
     "data": {
      "text/plain": [
       "{'max_depth': 12, 'n_estimators': 200}"
      ]
     },
     "execution_count": 54,
     "metadata": {},
     "output_type": "execute_result"
    }
   ],
   "source": [
    "cv_rf_impute.best_params_\n",
    "# {'max_depth': 12, 'n_estimators': 100}"
   ]
  },
  {
   "cell_type": "code",
   "execution_count": 55,
   "metadata": {},
   "outputs": [
    {
     "data": {
      "text/plain": [
       "0.7330177489759653"
      ]
     },
     "execution_count": 55,
     "metadata": {},
     "output_type": "execute_result"
    }
   ],
   "source": [
    "cv_rf_impute.best_score_\n",
    "# 0.7337676389523727"
   ]
  },
  {
   "cell_type": "code",
   "execution_count": 56,
   "metadata": {},
   "outputs": [],
   "source": [
    "pay_1_value_counts = pay_1_df['PAY_1'].value_counts().sort_index()"
   ]
  },
  {
   "cell_type": "code",
   "execution_count": 57,
   "metadata": {},
   "outputs": [
    {
     "data": {
      "text/plain": [
       "-2     2476\n",
       "-1     5047\n",
       " 0    13087\n",
       " 1     3261\n",
       " 2     2378\n",
       " 3      292\n",
       " 4       63\n",
       " 5       23\n",
       " 6       11\n",
       " 7        9\n",
       " 8       17\n",
       "Name: PAY_1, dtype: int64"
      ]
     },
     "execution_count": 57,
     "metadata": {},
     "output_type": "execute_result"
    }
   ],
   "source": [
    "pay_1_value_counts"
   ]
  },
  {
   "cell_type": "code",
   "execution_count": 58,
   "metadata": {},
   "outputs": [
    {
     "data": {
      "text/plain": [
       "-2    0.092859\n",
       "-1    0.189281\n",
       " 0    0.490812\n",
       " 1    0.122300\n",
       " 2    0.089184\n",
       " 3    0.010951\n",
       " 4    0.002363\n",
       " 5    0.000863\n",
       " 6    0.000413\n",
       " 7    0.000338\n",
       " 8    0.000638\n",
       "Name: PAY_1, dtype: float64"
      ]
     },
     "execution_count": 58,
     "metadata": {},
     "output_type": "execute_result"
    }
   ],
   "source": [
    "pay_1_value_counts/pay_1_value_counts.sum()"
   ]
  },
  {
   "cell_type": "code",
   "execution_count": 59,
   "metadata": {},
   "outputs": [
    {
     "name": "stderr",
     "output_type": "stream",
     "text": [
      "[Parallel(n_jobs=1)]: Using backend SequentialBackend with 1 concurrent workers.\n",
      "[Parallel(n_jobs=1)]: Done 200 out of 200 | elapsed:    0.3s finished\n"
     ]
    }
   ],
   "source": [
    "y_impute_predict = cv_rf_impute.predict(X_impute_test)"
   ]
  },
  {
   "cell_type": "code",
   "execution_count": 60,
   "metadata": {},
   "outputs": [],
   "source": [
    "from sklearn import metrics"
   ]
  },
  {
   "cell_type": "code",
   "execution_count": 61,
   "metadata": {},
   "outputs": [
    {
     "data": {
      "text/plain": [
       "0.7378586161635102"
      ]
     },
     "execution_count": 61,
     "metadata": {},
     "output_type": "execute_result"
    }
   ],
   "source": [
    "metrics.accuracy_score(y_impute_test, y_impute_predict)"
   ]
  },
  {
   "cell_type": "code",
   "execution_count": 62,
   "metadata": {},
   "outputs": [
    {
     "data": {
      "image/png": "[encoded data removed]",
      "text/plain": [
       "<Figure size 864x360 with 2 Axes>"
      ]
     },
     "metadata": {
      "needs_background": "light"
     },
     "output_type": "display_data"
    }
   ],
   "source": [
    "fig, axs = plt.subplots(1,2, figsize = (12, 5))\n",
    "axs[0].hist(y_impute_test, bins=bin_edges, align='left')\n",
    "axs[0].set_xticks(bin_edges)\n",
    "axs[0].set_title('Non-missing values of PAY_1')\n",
    "axs[1].hist(y_impute_predict, bins=bin_edges, align='left')\n",
    "axs[1].set_xticks(bin_edges)\n",
    "axs[1].set_title('Model-based imputation')\n",
    "plt.tight_layout();"
   ]
  },
  {
   "cell_type": "code",
   "execution_count": 63,
   "metadata": {},
   "outputs": [],
   "source": [
    "X_impute_all = pay_1_df[features_for_imputation].values\n",
    "y_impute_all = pay_1_df['PAY_1'].values"
   ]
  },
  {
   "cell_type": "code",
   "execution_count": 64,
   "metadata": {},
   "outputs": [],
   "source": [
    "rf_impute = RandomForestClassifier(n_estimators=100, max_depth=12)"
   ]
  },
  {
   "cell_type": "code",
   "execution_count": 65,
   "metadata": {},
   "outputs": [
    {
     "data": {
      "text/plain": [
       "RandomForestClassifier(max_depth=12)"
      ]
     },
     "execution_count": 65,
     "metadata": {},
     "output_type": "execute_result"
    }
   ],
   "source": [
    "rf_impute"
   ]
  },
  {
   "cell_type": "code",
   "execution_count": 66,
   "metadata": {},
   "outputs": [
    {
     "data": {
      "text/plain": [
       "RandomForestClassifier(max_depth=12)"
      ]
     },
     "execution_count": 66,
     "metadata": {},
     "output_type": "execute_result"
    }
   ],
   "source": [
    "rf_impute.fit(X_impute_all, y_impute_all)"
   ]
  },
  {
   "cell_type": "markdown",
   "metadata": {},
   "source": [
    "##### Using the Imputation Model and Comparing it to Other Methods"
   ]
  },
  {
   "cell_type": "code",
   "execution_count": 67,
   "metadata": {},
   "outputs": [],
   "source": [
    "df_fill_pay_1_model = df_missing_pay_1.copy()"
   ]
  },
  {
   "cell_type": "code",
   "execution_count": 68,
   "metadata": {},
   "outputs": [
    {
     "data": {
      "text/plain": [
       "17    Not available\n",
       "28    Not available\n",
       "29    Not available\n",
       "54    Not available\n",
       "60    Not available\n",
       "Name: PAY_1, dtype: object"
      ]
     },
     "execution_count": 68,
     "metadata": {},
     "output_type": "execute_result"
    }
   ],
   "source": [
    "df_fill_pay_1_model['PAY_1'].head()"
   ]
  },
  {
   "cell_type": "code",
   "execution_count": 69,
   "metadata": {},
   "outputs": [],
   "source": [
    "df_fill_pay_1_model['PAY_1'] = rf_impute.predict(df_fill_pay_1_model[features_for_imputation].values)"
   ]
  },
  {
   "cell_type": "code",
   "execution_count": 70,
   "metadata": {},
   "outputs": [
    {
     "data": {
      "text/plain": [
       "17    0\n",
       "28   -1\n",
       "29    0\n",
       "54    0\n",
       "60    0\n",
       "Name: PAY_1, dtype: int64"
      ]
     },
     "execution_count": 70,
     "metadata": {},
     "output_type": "execute_result"
    }
   ],
   "source": [
    "df_fill_pay_1_model['PAY_1'].head()"
   ]
  },
  {
   "cell_type": "code",
   "execution_count": 71,
   "metadata": {},
   "outputs": [
    {
     "data": {
      "text/plain": [
       "-2      31\n",
       "-1     760\n",
       " 0    1720\n",
       " 1     442\n",
       " 2      59\n",
       " 3       7\n",
       " 6       1\n",
       " 8       1\n",
       "Name: PAY_1, dtype: int64"
      ]
     },
     "execution_count": 71,
     "metadata": {},
     "output_type": "execute_result"
    }
   ],
   "source": [
    "df_fill_pay_1_model['PAY_1'].value_counts().sort_index()"
   ]
  },
  {
   "cell_type": "code",
   "execution_count": 72,
   "metadata": {},
   "outputs": [],
   "source": [
    "X_fill_pay_1_train, X_fill_pay_1_test, y_fill_pay_1_train, y_fill_pay_1_test = \\\n",
    "train_test_split(\n",
    "    df_fill_pay_1_model[features_response[:-1]].values,\n",
    "    df_fill_pay_1_model['default payment next month'].values,\n",
    "test_size=0.2, random_state=24)"
   ]
  },
  {
   "cell_type": "code",
   "execution_count": 73,
   "metadata": {},
   "outputs": [
    {
     "name": "stdout",
     "output_type": "stream",
     "text": [
      "(2416, 17)\n",
      "(605, 17)\n",
      "(2416,)\n",
      "(605,)\n"
     ]
    }
   ],
   "source": [
    "print(X_fill_pay_1_train.shape)\n",
    "print(X_fill_pay_1_test.shape)\n",
    "print(y_fill_pay_1_train.shape)\n",
    "print(y_fill_pay_1_test.shape)"
   ]
  },
  {
   "cell_type": "code",
   "execution_count": 74,
   "metadata": {},
   "outputs": [],
   "source": [
    "X_train_all = np.concatenate((X_train, X_fill_pay_1_train), axis = 0)\n",
    "y_train_all = np.concatenate((y_train, y_fill_pay_1_train), axis = 0)"
   ]
  },
  {
   "cell_type": "code",
   "execution_count": 75,
   "metadata": {},
   "outputs": [
    {
     "name": "stdout",
     "output_type": "stream",
     "text": [
      "(23747, 17)\n",
      "(23747,)\n"
     ]
    }
   ],
   "source": [
    "print(X_train_all.shape)\n",
    "print(y_train_all.shape)"
   ]
  },
  {
   "cell_type": "code",
   "execution_count": 76,
   "metadata": {},
   "outputs": [
    {
     "data": {
      "text/plain": [
       "RandomForestClassifier(max_depth=9, n_estimators=200, random_state=4, verbose=1)"
      ]
     },
     "execution_count": 76,
     "metadata": {},
     "output_type": "execute_result"
    }
   ],
   "source": [
    "rf"
   ]
  },
  {
   "cell_type": "code",
   "execution_count": 77,
   "metadata": {},
   "outputs": [
    {
     "name": "stderr",
     "output_type": "stream",
     "text": [
      "[Parallel(n_jobs=-1)]: Using backend LokyBackend with 4 concurrent workers.\n",
      "[Parallel(n_jobs=-1)]: Done   2 out of   4 | elapsed:   21.3s remaining:   21.3s\n",
      "[Parallel(n_jobs=-1)]: Done   4 out of   4 | elapsed:   21.7s finished\n"
     ]
    }
   ],
   "source": [
    "imputation_compare_cv = cross_validate(rf, X_train_all, y_train_all, scoring='roc_auc',\n",
    "                                       cv=k_folds, n_jobs=-1, verbose=1,\n",
    "                                       return_train_score=True, return_estimator=True,\n",
    "                                       error_score='raise-deprecating')"
   ]
  },
  {
   "cell_type": "code",
   "execution_count": 78,
   "metadata": {},
   "outputs": [
    {
     "data": {
      "text/plain": [
       "array([0.76911587, 0.77354   , 0.77079838, 0.77654374])"
      ]
     },
     "execution_count": 78,
     "metadata": {},
     "output_type": "execute_result"
    }
   ],
   "source": [
    "imputation_compare_cv['test_score']\n",
    "# array([0.76890992, 0.77309591, 0.77166336, 0.77703366])"
   ]
  },
  {
   "cell_type": "code",
   "execution_count": 79,
   "metadata": {},
   "outputs": [
    {
     "data": {
      "text/plain": [
       "0.7724994988073584"
      ]
     },
     "execution_count": 79,
     "metadata": {},
     "output_type": "execute_result"
    }
   ],
   "source": [
    "np.mean(imputation_compare_cv['test_score'])\n",
    "# 0.7726757126815554"
   ]
  },
  {
   "cell_type": "code",
   "execution_count": 80,
   "metadata": {},
   "outputs": [
    {
     "data": {
      "text/plain": [
       "0.002818744584313613"
      ]
     },
     "execution_count": 80,
     "metadata": {},
     "output_type": "execute_result"
    }
   ],
   "source": [
    "np.std(imputation_compare_cv['test_score'])\n",
    "# 0.002931480680760725"
   ]
  },
  {
   "cell_type": "markdown",
   "metadata": {},
   "source": [
    "Reassign values using mode imputation"
   ]
  },
  {
   "cell_type": "code",
   "execution_count": 81,
   "metadata": {},
   "outputs": [],
   "source": [
    "df_fill_pay_1_model['PAY_1'] = np.zeros_like(df_fill_pay_1_model['PAY_1'].values)"
   ]
  },
  {
   "cell_type": "code",
   "execution_count": 82,
   "metadata": {},
   "outputs": [
    {
     "data": {
      "text/plain": [
       "array([0], dtype=int64)"
      ]
     },
     "execution_count": 82,
     "metadata": {},
     "output_type": "execute_result"
    }
   ],
   "source": [
    "df_fill_pay_1_model['PAY_1'].unique()"
   ]
  },
  {
   "cell_type": "code",
   "execution_count": 83,
   "metadata": {},
   "outputs": [],
   "source": [
    "X_fill_pay_1_train, X_fill_pay_1_test, y_fill_pay_1_train, y_fill_pay_1_test = \\\n",
    "train_test_split(\n",
    "    df_fill_pay_1_model[features_response[:-1]].values,\n",
    "    df_fill_pay_1_model['default payment next month'].values,\n",
    "test_size=0.2, random_state=24)"
   ]
  },
  {
   "cell_type": "code",
   "execution_count": 84,
   "metadata": {},
   "outputs": [],
   "source": [
    "X_train_all = np.concatenate((X_train, X_fill_pay_1_train), axis=0)\n",
    "X_test_all = np.concatenate((X_test, X_fill_pay_1_test), axis=0)\n",
    "y_train_all = np.concatenate((y_train, y_fill_pay_1_train), axis=0)\n",
    "y_test_all = np.concatenate((y_test, y_fill_pay_1_test), axis=0)"
   ]
  },
  {
   "cell_type": "code",
   "execution_count": 85,
   "metadata": {},
   "outputs": [
    {
     "name": "stdout",
     "output_type": "stream",
     "text": [
      "(23747, 17)\n",
      "(5938, 17)\n",
      "(23747,)\n",
      "(5938,)\n"
     ]
    }
   ],
   "source": [
    "print(X_train_all.shape)\n",
    "print(X_test_all.shape)\n",
    "print(y_train_all.shape)\n",
    "print(y_test_all.shape)"
   ]
  },
  {
   "cell_type": "code",
   "execution_count": 86,
   "metadata": {},
   "outputs": [
    {
     "name": "stderr",
     "output_type": "stream",
     "text": [
      "[Parallel(n_jobs=-1)]: Using backend LokyBackend with 4 concurrent workers.\n",
      "[Parallel(n_jobs=-1)]: Done   2 out of   4 | elapsed:   19.8s remaining:   19.8s\n",
      "[Parallel(n_jobs=-1)]: Done   4 out of   4 | elapsed:   19.9s finished\n"
     ]
    }
   ],
   "source": [
    "imputation_compare_cv = cross_validate(rf, X_train_all, y_train_all, scoring='roc_auc',\n",
    "                                       cv=k_folds, n_jobs=-1, verbose=1,\n",
    "                                       return_train_score=True, return_estimator=True,\n",
    "                                       error_score='raise-deprecating')"
   ]
  },
  {
   "cell_type": "code",
   "execution_count": 87,
   "metadata": {},
   "outputs": [
    {
     "data": {
      "text/plain": [
       "0.7727809248607616"
      ]
     },
     "execution_count": 87,
     "metadata": {},
     "output_type": "execute_result"
    }
   ],
   "source": [
    "np.mean(imputation_compare_cv['test_score'])"
   ]
  },
  {
   "cell_type": "markdown",
   "metadata": {},
   "source": [
    "##### Confirming Model Performance on the Unseen Test Set"
   ]
  },
  {
   "cell_type": "code",
   "execution_count": 88,
   "metadata": {},
   "outputs": [
    {
     "name": "stderr",
     "output_type": "stream",
     "text": [
      "[Parallel(n_jobs=1)]: Using backend SequentialBackend with 1 concurrent workers.\n",
      "[Parallel(n_jobs=1)]: Done 200 out of 200 | elapsed:   13.4s finished\n"
     ]
    },
    {
     "data": {
      "text/plain": [
       "RandomForestClassifier(max_depth=9, n_estimators=200, random_state=4, verbose=1)"
      ]
     },
     "execution_count": 88,
     "metadata": {},
     "output_type": "execute_result"
    }
   ],
   "source": [
    "rf.fit(X_train_all, y_train_all)"
   ]
  },
  {
   "cell_type": "code",
   "execution_count": 89,
   "metadata": {},
   "outputs": [
    {
     "name": "stderr",
     "output_type": "stream",
     "text": [
      "[Parallel(n_jobs=1)]: Using backend SequentialBackend with 1 concurrent workers.\n",
      "[Parallel(n_jobs=1)]: Done 200 out of 200 | elapsed:    0.2s finished\n"
     ]
    }
   ],
   "source": [
    "y_test_all_predict_proba = rf.predict_proba(X_test_all)"
   ]
  },
  {
   "cell_type": "code",
   "execution_count": 90,
   "metadata": {},
   "outputs": [],
   "source": [
    "from sklearn.metrics import roc_auc_score"
   ]
  },
  {
   "cell_type": "code",
   "execution_count": 91,
   "metadata": {},
   "outputs": [
    {
     "data": {
      "text/plain": [
       "0.770065252240929"
      ]
     },
     "execution_count": 91,
     "metadata": {},
     "output_type": "execute_result"
    }
   ],
   "source": [
    "roc_auc_score(y_test_all, y_test_all_predict_proba[:,1])\n",
    "# 0.7696243835824927"
   ]
  },
  {
   "cell_type": "markdown",
   "metadata": {},
   "source": [
    "##### Characterizing Costs and Savings"
   ]
  },
  {
   "cell_type": "code",
   "execution_count": 92,
   "metadata": {},
   "outputs": [],
   "source": [
    "thresholds = np.linspace(0, 1, 101)"
   ]
  },
  {
   "cell_type": "markdown",
   "metadata": {},
   "source": [
    "Use mean bill amount to estimate savings per prevented default"
   ]
  },
  {
   "cell_type": "code",
   "execution_count": 93,
   "metadata": {},
   "outputs": [
    {
     "data": {
      "text/plain": [
       "'BILL_AMT1'"
      ]
     },
     "execution_count": 93,
     "metadata": {},
     "output_type": "execute_result"
    }
   ],
   "source": [
    "df[features_response[:-1]].columns[5]"
   ]
  },
  {
   "cell_type": "code",
   "execution_count": 94,
   "metadata": {},
   "outputs": [
    {
     "data": {
      "text/plain": [
       "51601.7433479286"
      ]
     },
     "execution_count": 94,
     "metadata": {},
     "output_type": "execute_result"
    }
   ],
   "source": [
    "savings_per_default = np.mean(X_test_all[:, 5])\n",
    "savings_per_default\n",
    "# 51601.7433479286"
   ]
  },
  {
   "cell_type": "code",
   "execution_count": 95,
   "metadata": {},
   "outputs": [],
   "source": [
    "cost_per_counseling = 7500"
   ]
  },
  {
   "cell_type": "code",
   "execution_count": 96,
   "metadata": {},
   "outputs": [],
   "source": [
    "effectiveness = 0.70"
   ]
  },
  {
   "cell_type": "code",
   "execution_count": 97,
   "metadata": {},
   "outputs": [],
   "source": [
    "n_pos_pred = np.empty_like(thresholds)\n",
    "cost_of_all_counselings = np.empty_like(thresholds)\n",
    "n_true_pos = np.empty_like(thresholds)\n",
    "savings_of_all_counselings = np.empty_like(thresholds)"
   ]
  },
  {
   "cell_type": "code",
   "execution_count": 98,
   "metadata": {},
   "outputs": [],
   "source": [
    "counter = 0\n",
    "for threshold in thresholds:\n",
    "    pos_pred = y_test_all_predict_proba[:,1]>threshold\n",
    "    n_pos_pred[counter] = sum(pos_pred)\n",
    "    cost_of_all_counselings[counter] = n_pos_pred[counter] * cost_per_counseling\n",
    "    true_pos = pos_pred & y_test_all.astype(bool)\n",
    "    n_true_pos[counter] = sum(true_pos)\n",
    "    savings_of_all_counselings[counter] = n_true_pos[counter] * savings_per_default * effectiveness\n",
    "    \n",
    "    counter += 1"
   ]
  },
  {
   "cell_type": "code",
   "execution_count": 99,
   "metadata": {},
   "outputs": [],
   "source": [
    "net_savings = savings_of_all_counselings - cost_of_all_counselings"
   ]
  },
  {
   "cell_type": "code",
   "execution_count": 100,
   "metadata": {},
   "outputs": [
    {
     "data": {
      "image/png": "[encoded data removed]",
      "text/plain": [
       "<Figure size 432x288 with 1 Axes>"
      ]
     },
     "metadata": {
      "needs_background": "light"
     },
     "output_type": "display_data"
    }
   ],
   "source": [
    "plt.plot(thresholds, cost_of_all_counselings);"
   ]
  },
  {
   "cell_type": "code",
   "execution_count": 101,
   "metadata": {},
   "outputs": [
    {
     "data": {
      "image/png": "[encoded data removed]",
      "text/plain": [
       "<Figure size 432x288 with 1 Axes>"
      ]
     },
     "metadata": {
      "needs_background": "light"
     },
     "output_type": "display_data"
    }
   ],
   "source": [
    "plt.plot(thresholds, savings_of_all_counselings);"
   ]
  },
  {
   "cell_type": "code",
   "execution_count": 102,
   "metadata": {
    "scrolled": true
   },
   "outputs": [
    {
     "data": {
      "image/png": "[encoded data removed]",
      "text/plain": [
       "<Figure size 864x360 with 1 Axes>"
      ]
     },
     "metadata": {
      "needs_background": "light"
     },
     "output_type": "display_data"
    }
   ],
   "source": [
    "plt.figure(figsize = (12, 5))\n",
    "plt.plot(thresholds, net_savings)\n",
    "plt.xlabel('Threshold')\n",
    "plt.ylabel('Net savings (NT$)')\n",
    "plt.xticks(np.linspace(0,1,11))\n",
    "plt.grid(True);"
   ]
  },
  {
   "cell_type": "code",
   "execution_count": 103,
   "metadata": {},
   "outputs": [],
   "source": [
    "max_savings_ix = np.argmax(net_savings)"
   ]
  },
  {
   "cell_type": "markdown",
   "metadata": {},
   "source": [
    "What is the threshold at which maximum savings is achieved?"
   ]
  },
  {
   "cell_type": "code",
   "execution_count": 104,
   "metadata": {},
   "outputs": [
    {
     "data": {
      "text/plain": [
       "0.21"
      ]
     },
     "execution_count": 104,
     "metadata": {},
     "output_type": "execute_result"
    }
   ],
   "source": [
    "thresholds[max_savings_ix]\n",
    "# 0.2"
   ]
  },
  {
   "cell_type": "markdown",
   "metadata": {},
   "source": [
    "What is the maximum possible savings?"
   ]
  },
  {
   "cell_type": "code",
   "execution_count": 105,
   "metadata": {},
   "outputs": [
    {
     "data": {
      "text/plain": [
       "15523203.86823846"
      ]
     },
     "execution_count": 105,
     "metadata": {},
     "output_type": "execute_result"
    }
   ],
   "source": [
    "net_savings[max_savings_ix]\n",
    "# 15446325.35991916"
   ]
  },
  {
   "cell_type": "markdown",
   "metadata": {},
   "source": [
    "## Challenge: Deriving Financial Insights"
   ]
  },
  {
   "cell_type": "markdown",
   "metadata": {},
   "source": [
    "    Everything that is needed prior to this challenge has been included in the notebook above. You should run all the necessary portions of the provided code before beginning these tasks."
   ]
  },
  {
   "cell_type": "code",
   "execution_count": 106,
   "metadata": {},
   "outputs": [
    {
     "data": {
      "application/javascript": [
       "IPython.notebook.set_autosave_interval(10000)"
      ]
     },
     "metadata": {},
     "output_type": "display_data"
    },
    {
     "name": "stdout",
     "output_type": "stream",
     "text": [
      "Autosaving every 10 seconds\n"
     ]
    }
   ],
   "source": [
    "# This will autosave your notebook every ten seconds\n",
    "%autosave 10"
   ]
  },
  {
   "cell_type": "markdown",
   "metadata": {},
   "source": [
    "**Using the testing set, calculate the cost of all defaults if there were no counseling program and output your result.**"
   ]
  },
  {
   "cell_type": "code",
   "execution_count": 107,
   "metadata": {
    "eid": "415a5"
   },
   "outputs": [
    {
     "data": {
      "text/plain": [
       "1285"
      ]
     },
     "execution_count": 107,
     "metadata": {},
     "output_type": "execute_result"
    }
   ],
   "source": [
    "sum(y_test_all)"
   ]
  },
  {
   "cell_type": "code",
   "execution_count": 108,
   "metadata": {},
   "outputs": [],
   "source": [
    "cost_wo_couns = sum(y_test_all)*savings_per_default"
   ]
  },
  {
   "cell_type": "code",
   "execution_count": 109,
   "metadata": {},
   "outputs": [
    {
     "data": {
      "text/plain": [
       "66308240.202088244"
      ]
     },
     "execution_count": 109,
     "metadata": {},
     "output_type": "execute_result"
    }
   ],
   "source": [
    "cost_wo_couns"
   ]
  },
  {
   "cell_type": "markdown",
   "metadata": {},
   "source": [
    "_______________________________________________________________________________________________\n",
    "**Next, calculate by what percent can the cost of defaults be decreased by the counseling program and output you result.**"
   ]
  },
  {
   "cell_type": "code",
   "execution_count": 110,
   "metadata": {},
   "outputs": [
    {
     "data": {
      "text/plain": [
       "array([ 1880768.14146177,  1880768.14146177,  1880768.14146177,\n",
       "        1880768.14146177,  1880768.14146177,  2009646.92111822,\n",
       "        2888525.70077467,  3993177.15836982,  5615495.19218592,\n",
       "        7474449.56497137,  8914176.61569552,  9916918.78504547,\n",
       "       10871130.71714382, 11344903.12374537, 12037387.73378242,\n",
       "       12739523.80141462, 13680281.08939037, 14173189.83496127,\n",
       "       14661189.56362411, 15123931.73297406, 15472189.02094981,\n",
       "       15523203.86823846, 15481461.15621421, 15387824.54590771,\n",
       "       15467900.13903672, 15400733.29147861, 14972960.34220276,\n",
       "       14633808.61327046, 14529747.86743011, 14123096.13849781,\n",
       "       13927656.61300101, 13540747.32475581, 13447550.23994611,\n",
       "       13000640.95170091, 12864428.74826541, 12692095.32448636,\n",
       "       12166049.69727181, 11921473.83280566, 11683019.18868306,\n",
       "       11512064.54456046, 11202746.23940721, 10908427.93425396,\n",
       "       10605230.84944426, 10332033.76463456, 10078579.12051195,\n",
       "        9966851.79845066,  9832624.47638936,  9757018.3746716 ,\n",
       "        9645291.05261031,  9569684.95089255,  9393215.18814416,\n",
       "        9215366.64573931,  9174502.98470866,  9025275.66264736,\n",
       "        8999412.00161671,  8922427.12024251,  8801821.01852475,\n",
       "        8833199.79818121,  8754836.13715055,  8584487.5947457 ,\n",
       "        8363017.83199731,  8042063.1878747 ,  7936457.08615695,\n",
       "        7773608.54375211,  7440411.45894241,  7119456.8148198 ,\n",
       "        6771259.7300101 ,  6367198.98416975,  6059259.45867295,\n",
       "        5253122.84836645,  4532849.8990906 ,  3797576.94981475,\n",
       "        3294031.3226002 ,  2709364.4750421 ,  2359788.61057595,\n",
       "        1782621.76301785,  1505288.3392388 ,  1199333.6951162 ,\n",
       "         935621.4916807 ,   836136.6103065 ,   664409.2882452 ,\n",
       "         564924.406871  ,   572424.406871  ,   543803.18652745,\n",
       "         486560.74584035,   400697.0848097 ,   343454.6441226 ,\n",
       "         228969.7627484 ,   143106.10171775,    85863.66103065,\n",
       "          85863.66103065,    85863.66103065,    28621.22034355,\n",
       "              0.        ,        0.        ,        0.        ,\n",
       "              0.        ,        0.        ,        0.        ,\n",
       "              0.        ,        0.        ])"
      ]
     },
     "execution_count": 110,
     "metadata": {},
     "output_type": "execute_result"
    }
   ],
   "source": [
    "net_savings = (savings_of_all_counselings - cost_of_all_counselings)\n",
    "net_savings"
   ]
  },
  {
   "cell_type": "code",
   "execution_count": 115,
   "metadata": {
    "eid": "96508"
   },
   "outputs": [
    {
     "data": {
      "text/plain": [
       "15523203.86823846"
      ]
     },
     "execution_count": 115,
     "metadata": {},
     "output_type": "execute_result"
    }
   ],
   "source": [
    "net_savings[max_savings_ix]"
   ]
  },
  {
   "cell_type": "code",
   "execution_count": 111,
   "metadata": {},
   "outputs": [],
   "source": [
    "perc_w_couns=net_savings[max_savings_ix]/cost_wo_couns"
   ]
  },
  {
   "cell_type": "code",
   "execution_count": 112,
   "metadata": {},
   "outputs": [
    {
     "data": {
      "text/plain": [
       "0.23410670862215988"
      ]
     },
     "execution_count": 112,
     "metadata": {},
     "output_type": "execute_result"
    }
   ],
   "source": [
    "perc_w_couns"
   ]
  },
  {
   "cell_type": "markdown",
   "metadata": {},
   "source": [
    "_______________________________________________________________________________________________\n",
    "**Then, calculate the net savings per account at the optimal threshold and output your result.**"
   ]
  },
  {
   "cell_type": "code",
   "execution_count": 113,
   "metadata": {
    "eid": "5d78e"
   },
   "outputs": [
    {
     "data": {
      "text/plain": [
       "5938"
      ]
     },
     "execution_count": 113,
     "metadata": {},
     "output_type": "execute_result"
    }
   ],
   "source": [
    "len(y_test_all)"
   ]
  },
  {
   "cell_type": "code",
   "execution_count": 114,
   "metadata": {},
   "outputs": [
    {
     "data": {
      "text/plain": [
       "15523203.86823846"
      ]
     },
     "execution_count": 114,
     "metadata": {},
     "output_type": "execute_result"
    }
   ],
   "source": [
    "net_savings[max_savings_ix]"
   ]
  },
  {
   "cell_type": "code",
   "execution_count": 115,
   "metadata": {},
   "outputs": [
    {
     "data": {
      "text/plain": [
       "2614.2141913503638"
      ]
     },
     "execution_count": 115,
     "metadata": {},
     "output_type": "execute_result"
    }
   ],
   "source": [
    "net_savings[max_savings_ix]/len(y_test_all)"
   ]
  },
  {
   "cell_type": "markdown",
   "metadata": {},
   "source": [
    "_______________________________________________________________________________________________\n",
    "**Now, plot the net savings per account against the cost of counseling per account for each threshold.**"
   ]
  },
  {
   "cell_type": "code",
   "execution_count": 116,
   "metadata": {
    "eid": "71d38"
   },
   "outputs": [
    {
     "data": {
      "text/plain": [
       "array([4.45350e+07, 4.45350e+07, 4.45350e+07, 4.45350e+07, 4.45350e+07,\n",
       "       4.43700e+07, 4.34550e+07, 4.20975e+07, 3.98250e+07, 3.72075e+07,\n",
       "       3.47925e+07, 3.26700e+07, 3.08850e+07, 2.90025e+07, 2.72625e+07,\n",
       "       2.52600e+07, 2.30550e+07, 2.10450e+07, 1.93650e+07, 1.77825e+07,\n",
       "       1.61700e+07, 1.47825e+07, 1.35600e+07, 1.25700e+07, 1.17675e+07,\n",
       "       1.10400e+07, 1.04925e+07, 9.89250e+06, 9.38250e+06, 8.85000e+06,\n",
       "       8.46750e+06, 7.98750e+06, 7.57500e+06, 7.15500e+06, 6.93000e+06,\n",
       "       6.70500e+06, 6.47250e+06, 6.24750e+06, 6.05250e+06, 5.79000e+06,\n",
       "       5.55750e+06, 5.31000e+06, 5.10750e+06, 4.87500e+06, 4.69500e+06,\n",
       "       4.59000e+06, 4.50750e+06, 4.40250e+06, 4.29750e+06, 4.19250e+06,\n",
       "       4.08000e+06, 4.00500e+06, 3.93750e+06, 3.87000e+06, 3.78750e+06,\n",
       "       3.72000e+06, 3.66000e+06, 3.59250e+06, 3.56250e+06, 3.48000e+06,\n",
       "       3.41250e+06, 3.30000e+06, 3.22500e+06, 3.13500e+06, 2.96250e+06,\n",
       "       2.85000e+06, 2.69250e+06, 2.48250e+06, 2.21250e+06, 1.93500e+06,\n",
       "       1.68000e+06, 1.44000e+06, 1.18500e+06, 9.75000e+05, 8.55000e+05,\n",
       "       6.37500e+05, 5.17500e+05, 3.90000e+05, 2.92500e+05, 2.47500e+05,\n",
       "       2.02500e+05, 1.57500e+05, 1.50000e+05, 1.42500e+05, 1.27500e+05,\n",
       "       1.05000e+05, 9.00000e+04, 6.00000e+04, 3.75000e+04, 2.25000e+04,\n",
       "       2.25000e+04, 2.25000e+04, 7.50000e+03, 0.00000e+00, 0.00000e+00,\n",
       "       0.00000e+00, 0.00000e+00, 0.00000e+00, 0.00000e+00, 0.00000e+00,\n",
       "       0.00000e+00])"
      ]
     },
     "execution_count": 116,
     "metadata": {},
     "output_type": "execute_result"
    }
   ],
   "source": [
    "cost_of_all_counselings"
   ]
  },
  {
   "cell_type": "code",
   "execution_count": 117,
   "metadata": {},
   "outputs": [
    {
     "data": {
      "text/plain": [
       "array([7.50000000e+03, 7.50000000e+03, 7.50000000e+03, 7.50000000e+03,\n",
       "       7.50000000e+03, 7.47221287e+03, 7.31812058e+03, 7.08950825e+03,\n",
       "       6.70680364e+03, 6.26599865e+03, 5.85929606e+03, 5.50185248e+03,\n",
       "       5.20124621e+03, 4.88422028e+03, 4.59119232e+03, 4.25395756e+03,\n",
       "       3.88262041e+03, 3.54412260e+03, 3.26119906e+03, 2.99469518e+03,\n",
       "       2.72313910e+03, 2.48947457e+03, 2.28359717e+03, 2.11687437e+03,\n",
       "       1.98172785e+03, 1.85921186e+03, 1.76700909e+03, 1.66596497e+03,\n",
       "       1.58007747e+03, 1.49040081e+03, 1.42598518e+03, 1.34514988e+03,\n",
       "       1.27568205e+03, 1.20495116e+03, 1.16705962e+03, 1.12916807e+03,\n",
       "       1.09001347e+03, 1.05212193e+03, 1.01928259e+03, 9.75075783e+02,\n",
       "       9.35921186e+02, 8.94240485e+02, 8.60138094e+02, 8.20983496e+02,\n",
       "       7.90670259e+02, 7.72987538e+02, 7.59093971e+02, 7.41411250e+02,\n",
       "       7.23728528e+02, 7.06045807e+02, 6.87100034e+02, 6.74469518e+02,\n",
       "       6.63102055e+02, 6.51734591e+02, 6.37841024e+02, 6.26473560e+02,\n",
       "       6.16369148e+02, 6.05001684e+02, 5.99949478e+02, 5.86055911e+02,\n",
       "       5.74688447e+02, 5.55742674e+02, 5.43112159e+02, 5.27955541e+02,\n",
       "       4.98905355e+02, 4.79959582e+02, 4.53435500e+02, 4.18070057e+02,\n",
       "       3.72600202e+02, 3.25867295e+02, 2.82923543e+02, 2.42505894e+02,\n",
       "       1.99562142e+02, 1.64196699e+02, 1.43987875e+02, 1.07359380e+02,\n",
       "       8.71505557e+01, 6.56786797e+01, 4.92590098e+01, 4.16807006e+01,\n",
       "       3.41023914e+01, 2.65240822e+01, 2.52610307e+01, 2.39979791e+01,\n",
       "       2.14718761e+01, 1.76827215e+01, 1.51566184e+01, 1.01044123e+01,\n",
       "       6.31525766e+00, 3.78915460e+00, 3.78915460e+00, 3.78915460e+00,\n",
       "       1.26305153e+00, 0.00000000e+00, 0.00000000e+00, 0.00000000e+00,\n",
       "       0.00000000e+00, 0.00000000e+00, 0.00000000e+00, 0.00000000e+00,\n",
       "       0.00000000e+00])"
      ]
     },
     "execution_count": 117,
     "metadata": {},
     "output_type": "execute_result"
    }
   ],
   "source": [
    "cost_of_couns_per_acc = cost_of_all_counselings/len(y_test_all)\n",
    "cost_of_couns_per_acc"
   ]
  },
  {
   "cell_type": "code",
   "execution_count": 119,
   "metadata": {},
   "outputs": [
    {
     "data": {
      "text/plain": [
       "array([ 316.73427778,  316.73427778,  316.73427778,  316.73427778,\n",
       "        316.73427778,  338.4383498 ,  486.44757507,  672.47847059,\n",
       "        945.68797443, 1258.74866369, 1501.20859139, 1670.07726255,\n",
       "       1830.77310831, 1910.55963687, 2027.17880326, 2145.42334143,\n",
       "       2303.85333267, 2386.8625522 , 2469.04505955, 2546.97402037,\n",
       "       2605.62294054, 2614.21419135, 2607.18443183, 2591.41538328,\n",
       "       2604.90066336, 2593.58930473, 2521.54940084, 2464.43391938,\n",
       "       2446.90937478, 2378.42642952, 2345.51307056, 2280.35488797,\n",
       "       2264.65985853, 2189.39726367, 2166.4581927 , 2137.43606003,\n",
       "       2048.84636195, 2007.6581059 , 1967.5007054 , 1938.7107687 ,\n",
       "       1886.61944079, 1837.05421594, 1785.99374359, 1739.98547737,\n",
       "       1697.30197381, 1678.4863251 , 1655.88152179, 1643.14893477,\n",
       "       1624.33328606, 1611.60069904, 1581.88197847, 1551.93106193,\n",
       "       1545.04934064, 1519.91843426, 1515.56281604, 1502.59803305,\n",
       "       1482.28713683, 1487.57153893, 1474.37455998, 1445.68669497,\n",
       "       1408.38966521, 1354.33869786, 1336.55390471, 1309.12909123,\n",
       "       1253.01641276, 1198.96544541, 1140.32666386, 1072.28005796,\n",
       "       1020.42092601,  884.66198187,  763.36306822,  639.5380515 ,\n",
       "        554.73750802,  456.27559364,  397.40461613,  300.20575329,\n",
       "        253.50089916,  201.97603488,  157.56508785,  140.81115027,\n",
       "        111.8910893 ,   95.13715171,   96.40020325,   91.58019308,\n",
       "         81.94017276,   67.48014227,   57.84012195,   38.5600813 ,\n",
       "         24.10005081,   14.46003049,   14.46003049,   14.46003049,\n",
       "          4.82001016,    0.        ,    0.        ,    0.        ,\n",
       "          0.        ,    0.        ,    0.        ,    0.        ,\n",
       "          0.        ])"
      ]
     },
     "execution_count": 119,
     "metadata": {},
     "output_type": "execute_result"
    }
   ],
   "source": [
    "net_savings_per_acc=net_savings/len(y_test_all)\n",
    "net_savings_per_acc"
   ]
  },
  {
   "cell_type": "code",
   "execution_count": 120,
   "metadata": {},
   "outputs": [
    {
     "data": {
      "image/png": "[encoded data removed]",
      "text/plain": [
       "<Figure size 864x360 with 1 Axes>"
      ]
     },
     "metadata": {
      "needs_background": "light"
     },
     "output_type": "display_data"
    }
   ],
   "source": [
    "plt.figure(figsize = (12, 5))\n",
    "plt.plot(cost_of_couns_per_acc,net_savings_per_acc)\n",
    "plt.xlabel('Cost of counselings per account')\n",
    "plt.ylabel('Net savings per account')\n",
    "plt.title('Cost Of Counselings VS Savings');"
   ]
  },
  {
   "cell_type": "markdown",
   "metadata": {},
   "source": [
    "_______________________________________________________________________________________________\n",
    "**Next, plot the fraction of accounts predicted as positive (this is called the \"flag rate\") at each threshold.**"
   ]
  },
  {
   "cell_type": "code",
   "execution_count": 121,
   "metadata": {
    "eid": "6270e"
   },
   "outputs": [
    {
     "data": {
      "text/plain": [
       "array([0.  , 0.01, 0.02, 0.03, 0.04, 0.05, 0.06, 0.07, 0.08, 0.09, 0.1 ,\n",
       "       0.11, 0.12, 0.13, 0.14, 0.15, 0.16, 0.17, 0.18, 0.19, 0.2 , 0.21,\n",
       "       0.22, 0.23, 0.24, 0.25, 0.26, 0.27, 0.28, 0.29, 0.3 , 0.31, 0.32,\n",
       "       0.33, 0.34, 0.35, 0.36, 0.37, 0.38, 0.39, 0.4 , 0.41, 0.42, 0.43,\n",
       "       0.44, 0.45, 0.46, 0.47, 0.48, 0.49, 0.5 , 0.51, 0.52, 0.53, 0.54,\n",
       "       0.55, 0.56, 0.57, 0.58, 0.59, 0.6 , 0.61, 0.62, 0.63, 0.64, 0.65,\n",
       "       0.66, 0.67, 0.68, 0.69, 0.7 , 0.71, 0.72, 0.73, 0.74, 0.75, 0.76,\n",
       "       0.77, 0.78, 0.79, 0.8 , 0.81, 0.82, 0.83, 0.84, 0.85, 0.86, 0.87,\n",
       "       0.88, 0.89, 0.9 , 0.91, 0.92, 0.93, 0.94, 0.95, 0.96, 0.97, 0.98,\n",
       "       0.99, 1.  ])"
      ]
     },
     "execution_count": 121,
     "metadata": {},
     "output_type": "execute_result"
    }
   ],
   "source": [
    "thresholds"
   ]
  },
  {
   "cell_type": "code",
   "execution_count": 122,
   "metadata": {},
   "outputs": [
    {
     "data": {
      "text/plain": [
       "array([5.938e+03, 5.938e+03, 5.938e+03, 5.938e+03, 5.938e+03, 5.916e+03,\n",
       "       5.794e+03, 5.613e+03, 5.310e+03, 4.961e+03, 4.639e+03, 4.356e+03,\n",
       "       4.118e+03, 3.867e+03, 3.635e+03, 3.368e+03, 3.074e+03, 2.806e+03,\n",
       "       2.582e+03, 2.371e+03, 2.156e+03, 1.971e+03, 1.808e+03, 1.676e+03,\n",
       "       1.569e+03, 1.472e+03, 1.399e+03, 1.319e+03, 1.251e+03, 1.180e+03,\n",
       "       1.129e+03, 1.065e+03, 1.010e+03, 9.540e+02, 9.240e+02, 8.940e+02,\n",
       "       8.630e+02, 8.330e+02, 8.070e+02, 7.720e+02, 7.410e+02, 7.080e+02,\n",
       "       6.810e+02, 6.500e+02, 6.260e+02, 6.120e+02, 6.010e+02, 5.870e+02,\n",
       "       5.730e+02, 5.590e+02, 5.440e+02, 5.340e+02, 5.250e+02, 5.160e+02,\n",
       "       5.050e+02, 4.960e+02, 4.880e+02, 4.790e+02, 4.750e+02, 4.640e+02,\n",
       "       4.550e+02, 4.400e+02, 4.300e+02, 4.180e+02, 3.950e+02, 3.800e+02,\n",
       "       3.590e+02, 3.310e+02, 2.950e+02, 2.580e+02, 2.240e+02, 1.920e+02,\n",
       "       1.580e+02, 1.300e+02, 1.140e+02, 8.500e+01, 6.900e+01, 5.200e+01,\n",
       "       3.900e+01, 3.300e+01, 2.700e+01, 2.100e+01, 2.000e+01, 1.900e+01,\n",
       "       1.700e+01, 1.400e+01, 1.200e+01, 8.000e+00, 5.000e+00, 3.000e+00,\n",
       "       3.000e+00, 3.000e+00, 1.000e+00, 0.000e+00, 0.000e+00, 0.000e+00,\n",
       "       0.000e+00, 0.000e+00, 0.000e+00, 0.000e+00, 0.000e+00])"
      ]
     },
     "execution_count": 122,
     "metadata": {},
     "output_type": "execute_result"
    }
   ],
   "source": [
    "n_pos_pred"
   ]
  },
  {
   "cell_type": "code",
   "execution_count": 123,
   "metadata": {},
   "outputs": [
    {
     "data": {
      "text/plain": [
       "133526.0"
      ]
     },
     "execution_count": 123,
     "metadata": {},
     "output_type": "execute_result"
    }
   ],
   "source": [
    "sum(n_pos_pred)"
   ]
  },
  {
   "cell_type": "code",
   "execution_count": 124,
   "metadata": {},
   "outputs": [
    {
     "data": {
      "text/plain": [
       "array([0.00000000e+00, 1.68406871e-06, 3.36813742e-06, 5.05220613e-06,\n",
       "       6.73627484e-06, 8.42034355e-06, 1.01044123e-05, 1.17884810e-05,\n",
       "       1.34725497e-05, 1.51566184e-05, 1.68406871e-05, 1.85247558e-05,\n",
       "       2.02088245e-05, 2.18928932e-05, 2.35769619e-05, 2.52610307e-05,\n",
       "       2.69450994e-05, 2.86291681e-05, 3.03132368e-05, 3.19973055e-05,\n",
       "       3.36813742e-05, 3.53654429e-05, 3.70495116e-05, 3.87335803e-05,\n",
       "       4.04176490e-05, 4.21017178e-05, 4.37857865e-05, 4.54698552e-05,\n",
       "       4.71539239e-05, 4.88379926e-05, 5.05220613e-05, 5.22061300e-05,\n",
       "       5.38901987e-05, 5.55742674e-05, 5.72583361e-05, 5.89424049e-05,\n",
       "       6.06264736e-05, 6.23105423e-05, 6.39946110e-05, 6.56786797e-05,\n",
       "       6.73627484e-05, 6.90468171e-05, 7.07308858e-05, 7.24149545e-05,\n",
       "       7.40990232e-05, 7.57830920e-05, 7.74671607e-05, 7.91512294e-05,\n",
       "       8.08352981e-05, 8.25193668e-05, 8.42034355e-05, 8.58875042e-05,\n",
       "       8.75715729e-05, 8.92556416e-05, 9.09397103e-05, 9.26237791e-05,\n",
       "       9.43078478e-05, 9.59919165e-05, 9.76759852e-05, 9.93600539e-05,\n",
       "       1.01044123e-04, 1.02728191e-04, 1.04412260e-04, 1.06096329e-04,\n",
       "       1.07780397e-04, 1.09464466e-04, 1.11148535e-04, 1.12832604e-04,\n",
       "       1.14516672e-04, 1.16200741e-04, 1.17884810e-04, 1.19568878e-04,\n",
       "       1.21252947e-04, 1.22937016e-04, 1.24621085e-04, 1.26305153e-04,\n",
       "       1.27989222e-04, 1.29673291e-04, 1.31357359e-04, 1.33041428e-04,\n",
       "       1.34725497e-04, 1.36409566e-04, 1.38093634e-04, 1.39777703e-04,\n",
       "       1.41461772e-04, 1.43145840e-04, 1.44829909e-04, 1.46513978e-04,\n",
       "       1.48198046e-04, 1.49882115e-04, 1.51566184e-04, 1.53250253e-04,\n",
       "       1.54934321e-04, 1.56618390e-04, 1.58302459e-04, 1.59986527e-04,\n",
       "       1.61670596e-04, 1.63354665e-04, 1.65038734e-04, 1.66722802e-04,\n",
       "       1.68406871e-04])"
      ]
     },
     "execution_count": 124,
     "metadata": {},
     "output_type": "execute_result"
    }
   ],
   "source": [
    "threshold_per_pred=thresholds/len(y_test_all)\n",
    "threshold_per_pred"
   ]
  },
  {
   "cell_type": "code",
   "execution_count": 125,
   "metadata": {},
   "outputs": [
    {
     "data": {
      "text/plain": [
       "array([1.00000000e+00, 1.00000000e+00, 1.00000000e+00, 1.00000000e+00,\n",
       "       1.00000000e+00, 9.96295049e-01, 9.75749411e-01, 9.45267767e-01,\n",
       "       8.94240485e-01, 8.35466487e-01, 7.81239475e-01, 7.33580330e-01,\n",
       "       6.93499495e-01, 6.51229370e-01, 6.12158976e-01, 5.67194342e-01,\n",
       "       5.17682721e-01, 4.72549680e-01, 4.34826541e-01, 3.99292691e-01,\n",
       "       3.63085214e-01, 3.31929943e-01, 3.04479623e-01, 2.82249916e-01,\n",
       "       2.64230381e-01, 2.47894914e-01, 2.35601213e-01, 2.22128663e-01,\n",
       "       2.10676996e-01, 1.98720108e-01, 1.90131357e-01, 1.79353318e-01,\n",
       "       1.70090940e-01, 1.60660155e-01, 1.55607949e-01, 1.50555743e-01,\n",
       "       1.45335130e-01, 1.40282924e-01, 1.35904345e-01, 1.30010104e-01,\n",
       "       1.24789491e-01, 1.19232065e-01, 1.14685079e-01, 1.09464466e-01,\n",
       "       1.05422701e-01, 1.03065005e-01, 1.01212529e-01, 9.88548333e-02,\n",
       "       9.64971371e-02, 9.41394409e-02, 9.16133378e-02, 8.99292691e-02,\n",
       "       8.84136073e-02, 8.68979454e-02, 8.50454699e-02, 8.35298080e-02,\n",
       "       8.21825530e-02, 8.06668912e-02, 7.99932637e-02, 7.81407881e-02,\n",
       "       7.66251263e-02, 7.40990232e-02, 7.24149545e-02, 7.03940721e-02,\n",
       "       6.65207140e-02, 6.39946110e-02, 6.04580667e-02, 5.57426743e-02,\n",
       "       4.96800269e-02, 4.34489727e-02, 3.77231391e-02, 3.23341192e-02,\n",
       "       2.66082856e-02, 2.18928932e-02, 1.91983833e-02, 1.43145840e-02,\n",
       "       1.16200741e-02, 8.75715729e-03, 6.56786797e-03, 5.55742674e-03,\n",
       "       4.54698552e-03, 3.53654429e-03, 3.36813742e-03, 3.19973055e-03,\n",
       "       2.86291681e-03, 2.35769619e-03, 2.02088245e-03, 1.34725497e-03,\n",
       "       8.42034355e-04, 5.05220613e-04, 5.05220613e-04, 5.05220613e-04,\n",
       "       1.68406871e-04, 0.00000000e+00, 0.00000000e+00, 0.00000000e+00,\n",
       "       0.00000000e+00, 0.00000000e+00, 0.00000000e+00, 0.00000000e+00,\n",
       "       0.00000000e+00])"
      ]
     },
     "execution_count": 125,
     "metadata": {},
     "output_type": "execute_result"
    }
   ],
   "source": [
    "n_pos_pred_per_pred=n_pos_pred/len(y_test_all)\n",
    "n_pos_pred_per_pred"
   ]
  },
  {
   "cell_type": "code",
   "execution_count": 126,
   "metadata": {},
   "outputs": [
    {
     "data": {
      "image/png": "[encoded data removed]",
      "text/plain": [
       "<Figure size 864x360 with 1 Axes>"
      ]
     },
     "metadata": {
      "needs_background": "light"
     },
     "output_type": "display_data"
    }
   ],
   "source": [
    "plt.figure(figsize = (12, 5))\n",
    "plt.plot(threshold_per_pred,n_pos_pred_per_pred)\n",
    "plt.tight_layout()\n",
    "plt.ylabel('Flag rate')\n",
    "plt.xlabel('Threshold');"
   ]
  },
  {
   "cell_type": "markdown",
   "metadata": {},
   "source": [
    "_______________________________________________________________________________________________\n",
    "**Next, plot a precision-recall curve for the testing data.**"
   ]
  },
  {
   "cell_type": "code",
   "execution_count": 127,
   "metadata": {
    "eid": "0edc5"
   },
   "outputs": [
    {
     "data": {
      "text/plain": [
       "array([1.285e+03, 1.285e+03, 1.285e+03, 1.285e+03, 1.285e+03, 1.284e+03,\n",
       "       1.283e+03, 1.276e+03, 1.258e+03, 1.237e+03, 1.210e+03, 1.179e+03,\n",
       "       1.156e+03, 1.117e+03, 1.088e+03, 1.052e+03, 1.017e+03, 9.750e+02,\n",
       "       9.420e+02, 9.110e+02, 8.760e+02, 8.390e+02, 8.040e+02, 7.740e+02,\n",
       "       7.540e+02, 7.320e+02, 7.050e+02, 6.790e+02, 6.620e+02, 6.360e+02,\n",
       "       6.200e+02, 5.960e+02, 5.820e+02, 5.580e+02, 5.480e+02, 5.370e+02,\n",
       "       5.160e+02, 5.030e+02, 4.910e+02, 4.790e+02, 4.640e+02, 4.490e+02,\n",
       "       4.350e+02, 4.210e+02, 4.090e+02, 4.030e+02, 3.970e+02, 3.920e+02,\n",
       "       3.860e+02, 3.810e+02, 3.730e+02, 3.660e+02, 3.630e+02, 3.570e+02,\n",
       "       3.540e+02, 3.500e+02, 3.450e+02, 3.440e+02, 3.410e+02, 3.340e+02,\n",
       "       3.260e+02, 3.140e+02, 3.090e+02, 3.020e+02, 2.880e+02, 2.760e+02,\n",
       "       2.620e+02, 2.450e+02, 2.290e+02, 1.990e+02, 1.720e+02, 1.450e+02,\n",
       "       1.240e+02, 1.020e+02, 8.900e+01, 6.700e+01, 5.600e+01, 4.400e+01,\n",
       "       3.400e+01, 3.000e+01, 2.400e+01, 2.000e+01, 2.000e+01, 1.900e+01,\n",
       "       1.700e+01, 1.400e+01, 1.200e+01, 8.000e+00, 5.000e+00, 3.000e+00,\n",
       "       3.000e+00, 3.000e+00, 1.000e+00, 0.000e+00, 0.000e+00, 0.000e+00,\n",
       "       0.000e+00, 0.000e+00, 0.000e+00, 0.000e+00, 0.000e+00])"
      ]
     },
     "execution_count": 127,
     "metadata": {},
     "output_type": "execute_result"
    }
   ],
   "source": [
    "n_true_pos"
   ]
  },
  {
   "cell_type": "code",
   "execution_count": 128,
   "metadata": {},
   "outputs": [
    {
     "data": {
      "text/plain": [
       "array([2.16402829e-01, 2.16402829e-01, 2.16402829e-01, 2.16402829e-01,\n",
       "       2.16402829e-01, 2.16234422e-01, 2.16066015e-01, 2.14887167e-01,\n",
       "       2.11855844e-01, 2.08319299e-01, 2.03772314e-01, 1.98551701e-01,\n",
       "       1.94678343e-01, 1.88110475e-01, 1.83226676e-01, 1.77164028e-01,\n",
       "       1.71269788e-01, 1.64196699e-01, 1.58639272e-01, 1.53418659e-01,\n",
       "       1.47524419e-01, 1.41293365e-01, 1.35399124e-01, 1.30346918e-01,\n",
       "       1.26978781e-01, 1.23273830e-01, 1.18726844e-01, 1.14348265e-01,\n",
       "       1.11485349e-01, 1.07106770e-01, 1.04412260e-01, 1.00370495e-01,\n",
       "       9.80127989e-02, 9.39710340e-02, 9.22869653e-02, 9.04344897e-02,\n",
       "       8.68979454e-02, 8.47086561e-02, 8.26877737e-02, 8.06668912e-02,\n",
       "       7.81407881e-02, 7.56146851e-02, 7.32569889e-02, 7.08992927e-02,\n",
       "       6.88784102e-02, 6.78679690e-02, 6.68575278e-02, 6.60154934e-02,\n",
       "       6.50050522e-02, 6.41630179e-02, 6.28157629e-02, 6.16369148e-02,\n",
       "       6.11316942e-02, 6.01212529e-02, 5.96160323e-02, 5.89424049e-02,\n",
       "       5.81003705e-02, 5.79319636e-02, 5.74267430e-02, 5.62478949e-02,\n",
       "       5.49006399e-02, 5.28797575e-02, 5.20377231e-02, 5.08588750e-02,\n",
       "       4.85011788e-02, 4.64802964e-02, 4.41226002e-02, 4.12596834e-02,\n",
       "       3.85651735e-02, 3.35129673e-02, 2.89659818e-02, 2.44189963e-02,\n",
       "       2.08824520e-02, 1.71775008e-02, 1.49882115e-02, 1.12832604e-02,\n",
       "       9.43078478e-03, 7.40990232e-03, 5.72583361e-03, 5.05220613e-03,\n",
       "       4.04176490e-03, 3.36813742e-03, 3.36813742e-03, 3.19973055e-03,\n",
       "       2.86291681e-03, 2.35769619e-03, 2.02088245e-03, 1.34725497e-03,\n",
       "       8.42034355e-04, 5.05220613e-04, 5.05220613e-04, 5.05220613e-04,\n",
       "       1.68406871e-04, 0.00000000e+00, 0.00000000e+00, 0.00000000e+00,\n",
       "       0.00000000e+00, 0.00000000e+00, 0.00000000e+00, 0.00000000e+00,\n",
       "       0.00000000e+00])"
      ]
     },
     "execution_count": 128,
     "metadata": {},
     "output_type": "execute_result"
    }
   ],
   "source": [
    "n_true_pos/len(y_test_all)"
   ]
  },
  {
   "cell_type": "code",
   "execution_count": 129,
   "metadata": {},
   "outputs": [
    {
     "data": {
      "text/plain": [
       "array([2.16402829e-01, 2.16402829e-01, 2.16402829e-01, 2.16402829e-01,\n",
       "       2.16402829e-01, 2.16234422e-01, 2.16066015e-01, 2.14887167e-01,\n",
       "       2.11855844e-01, 2.08319299e-01, 2.03772314e-01, 1.98551701e-01,\n",
       "       1.94678343e-01, 1.88110475e-01, 1.83226676e-01, 1.77164028e-01,\n",
       "       1.71269788e-01, 1.64196699e-01, 1.58639272e-01, 1.53418659e-01,\n",
       "       1.47524419e-01, 1.41293365e-01, 1.35399124e-01, 1.30346918e-01,\n",
       "       1.26978781e-01, 1.23273830e-01, 1.18726844e-01, 1.14348265e-01,\n",
       "       1.11485349e-01, 1.07106770e-01, 1.04412260e-01, 1.00370495e-01,\n",
       "       9.80127989e-02, 9.39710340e-02, 9.22869653e-02, 9.04344897e-02,\n",
       "       8.68979454e-02, 8.47086561e-02, 8.26877737e-02, 8.06668912e-02,\n",
       "       7.81407881e-02, 7.56146851e-02, 7.32569889e-02, 7.08992927e-02,\n",
       "       6.88784102e-02, 6.78679690e-02, 6.68575278e-02, 6.60154934e-02,\n",
       "       6.50050522e-02, 6.41630179e-02, 6.28157629e-02, 6.16369148e-02,\n",
       "       6.11316942e-02, 6.01212529e-02, 5.96160323e-02, 5.89424049e-02,\n",
       "       5.81003705e-02, 5.79319636e-02, 5.74267430e-02, 5.62478949e-02,\n",
       "       5.49006399e-02, 5.28797575e-02, 5.20377231e-02, 5.08588750e-02,\n",
       "       4.85011788e-02, 4.64802964e-02, 4.41226002e-02, 4.12596834e-02,\n",
       "       3.85651735e-02, 3.35129673e-02, 2.89659818e-02, 2.44189963e-02,\n",
       "       2.08824520e-02, 1.71775008e-02, 1.49882115e-02, 1.12832604e-02,\n",
       "       9.43078478e-03, 7.40990232e-03, 5.72583361e-03, 5.05220613e-03,\n",
       "       4.04176490e-03, 3.36813742e-03, 3.36813742e-03, 3.19973055e-03,\n",
       "       2.86291681e-03, 2.35769619e-03, 2.02088245e-03, 1.34725497e-03,\n",
       "       8.42034355e-04, 5.05220613e-04, 5.05220613e-04, 5.05220613e-04,\n",
       "       1.68406871e-04, 0.00000000e+00, 0.00000000e+00, 0.00000000e+00,\n",
       "       0.00000000e+00, 0.00000000e+00, 0.00000000e+00, 0.00000000e+00,\n",
       "       0.00000000e+00])"
      ]
     },
     "execution_count": 129,
     "metadata": {},
     "output_type": "execute_result"
    }
   ],
   "source": [
    "n_true_pos/len(y_test_all)"
   ]
  },
  {
   "cell_type": "code",
   "execution_count": 130,
   "metadata": {},
   "outputs": [
    {
     "name": "stderr",
     "output_type": "stream",
     "text": [
      "C:\\Users\\admin\\AppData\\Local\\Programs\\Python\\Python37\\lib\\site-packages\\ipykernel_launcher.py:2: RuntimeWarning: invalid value encountered in true_divide\n",
      "  \n"
     ]
    },
    {
     "data": {
      "image/png": "[encoded data removed]",
      "text/plain": [
       "<Figure size 864x360 with 1 Axes>"
      ]
     },
     "metadata": {
      "needs_background": "light"
     },
     "output_type": "display_data"
    }
   ],
   "source": [
    "plt.figure(figsize = (12, 5))\n",
    "plt.plot(n_true_pos/len(y_test_all), np.divide(n_true_pos,n_pos_pred))\n",
    "plt.xlabel('Recall')\n",
    "plt.ylabel('Precision')\n",
    "plt.title('Precision VS Recall');"
   ]
  },
  {
   "cell_type": "markdown",
   "metadata": {},
   "source": [
    "_______________________________________________________________________________________________\n",
    "**Finally, plot precision and recall separately on the y-axis against threshold on the x-axis.**"
   ]
  },
  {
   "cell_type": "code",
   "execution_count": 131,
   "metadata": {
    "eid": "88413"
   },
   "outputs": [
    {
     "data": {
      "text/plain": [
       "array([0.  , 0.01, 0.02, 0.03, 0.04, 0.05, 0.06, 0.07, 0.08, 0.09, 0.1 ,\n",
       "       0.11, 0.12, 0.13, 0.14, 0.15, 0.16, 0.17, 0.18, 0.19, 0.2 , 0.21,\n",
       "       0.22, 0.23, 0.24, 0.25, 0.26, 0.27, 0.28, 0.29, 0.3 , 0.31, 0.32,\n",
       "       0.33, 0.34, 0.35, 0.36, 0.37, 0.38, 0.39, 0.4 , 0.41, 0.42, 0.43,\n",
       "       0.44, 0.45, 0.46, 0.47, 0.48, 0.49, 0.5 , 0.51, 0.52, 0.53, 0.54,\n",
       "       0.55, 0.56, 0.57, 0.58, 0.59, 0.6 , 0.61, 0.62, 0.63, 0.64, 0.65,\n",
       "       0.66, 0.67, 0.68, 0.69, 0.7 , 0.71, 0.72, 0.73, 0.74, 0.75, 0.76,\n",
       "       0.77, 0.78, 0.79, 0.8 , 0.81, 0.82, 0.83, 0.84, 0.85, 0.86, 0.87,\n",
       "       0.88, 0.89, 0.9 , 0.91, 0.92, 0.93, 0.94, 0.95, 0.96, 0.97, 0.98,\n",
       "       0.99, 1.  ])"
      ]
     },
     "execution_count": 131,
     "metadata": {},
     "output_type": "execute_result"
    }
   ],
   "source": [
    "thresholds"
   ]
  },
  {
   "cell_type": "code",
   "execution_count": 132,
   "metadata": {},
   "outputs": [
    {
     "name": "stderr",
     "output_type": "stream",
     "text": [
      "C:\\Users\\admin\\AppData\\Local\\Programs\\Python\\Python37\\lib\\site-packages\\ipykernel_launcher.py:2: RuntimeWarning: invalid value encountered in true_divide\n",
      "  \n"
     ]
    },
    {
     "data": {
      "image/png": "[encoded data removed]",
      "text/plain": [
       "<Figure size 864x432 with 1 Axes>"
      ]
     },
     "metadata": {
      "needs_background": "light"
     },
     "output_type": "display_data"
    }
   ],
   "source": [
    "plt.figure(figsize = (12, 6))\n",
    "plt.plot(thresholds, np.divide(n_true_pos, n_pos_pred), label = 'Precision')\n",
    "plt.plot(thresholds, n_true_pos/sum(y_test_all), label = 'Recall')\n",
    "plt.xlabel('Threshold')\n",
    "plt.title('Separate Curves Of Precision And Recall On Y-Axis : ')\n",
    "plt.legend();"
   ]
  }
 ],
 "metadata": {
  "kernelspec": {
   "display_name": "Python 3",
   "language": "python",
   "name": "python3"
  },
  "language_info": {
   "codemirror_mode": {
    "name": "ipython",
    "version": 3
   },
   "file_extension": ".py",
   "mimetype": "text/x-python",
   "name": "python",
   "nbconvert_exporter": "python",
   "pygments_lexer": "ipython3",
   "version": "3.7.6"
  }
 },
 "nbformat": 4,
 "nbformat_minor": 2
}
